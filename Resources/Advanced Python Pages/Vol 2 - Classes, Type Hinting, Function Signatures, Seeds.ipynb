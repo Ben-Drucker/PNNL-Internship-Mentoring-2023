{
 "cells": [
  {
   "cell_type": "markdown",
   "metadata": {},
   "source": [
    "## Classes\n",
    "\n",
    "Classes encapsulate data and associated functionality."
   ]
  },
  {
   "cell_type": "markdown",
   "metadata": {},
   "source": [
    "### Class Basics"
   ]
  },
  {
   "cell_type": "code",
   "execution_count": 9,
   "metadata": {},
   "outputs": [
    {
     "name": "stdout",
     "output_type": "stream",
     "text": [
      "Dog of species German Shepherd, color Golden, and age 7.5\n",
      "Bark!\n"
     ]
    }
   ],
   "source": [
    "# Define a Class\n",
    "\n",
    "class Dog:\n",
    "    def __init__(self, species, color, age): # Define constructor\n",
    "        self.species: str = species # Store data\n",
    "        self.color: str = color # Store data\n",
    "        self.age: float = age # Store data\n",
    "\n",
    "    def __str__(self): # Define string representation of object\n",
    "        return f\"Dog of species {self.species}, color {self.color}, and age {self.age}\"\n",
    "\n",
    "    def sound(self): # Define functionality\n",
    "        print(\"Bark!\")\n",
    "\n",
    "# Example instantiation of a class:\n",
    "\n",
    "my_pet_dog = Dog('German Shepherd', 'Golden', 7.5)\n",
    "print(my_pet_dog)\n",
    "my_pet_dog.sound()"
   ]
  },
  {
   "cell_type": "markdown",
   "metadata": {},
   "source": [
    "### Inheritence and Subclassing\n",
    "\n",
    "If we have multiple similar objects that share data and/or functionality, it's advantageous to use sub/superclasses so subclasses can automatically inherit functionality from their superclasses"
   ]
  },
  {
   "cell_type": "code",
   "execution_count": 10,
   "metadata": {},
   "outputs": [],
   "source": [
    "### Old, \"bad\" way: ---------------------------------\n",
    "\n",
    "class Cat:\n",
    "    def __init__(self, species, color, age):\n",
    "        self.species: str = species\n",
    "        self.color: str = color\n",
    "        self.age: float = age\n",
    "\n",
    "    def __str__(self):\n",
    "        return f\"Cat of species {self.species}, color {self.color}, and age {self.age}\"\n",
    "\n",
    "    def walk(self):\n",
    "        print(\"I am walking!\")\n",
    "\n",
    "    def sound(self):\n",
    "        print(\"Meow!\")\n",
    "\n",
    "\n",
    "class Fish:\n",
    "    def __init__(self, species, color, age):\n",
    "        self.species: str = species\n",
    "        self.color: str = color\n",
    "        self.age: float = age\n",
    "\n",
    "    def __str__(self):\n",
    "        return f\"Cat of species {self.species}, color {self.color}, and age {self.age}\"\n",
    "\n",
    "    def sound(self):\n",
    "        print(\"Glub glub glub!\")\n",
    "\n",
    "    def walk(self):\n",
    "        print(\"I can't walk! I'm a fish!\")\n",
    "\n",
    "### Better way: ---------------------------------\n",
    "\n",
    "class Animal:\n",
    "    def __init__(self, species, color, age):\n",
    "        self.species: str = species\n",
    "        self.color: str = color\n",
    "        self.age: float = age\n",
    "\n",
    "    def __str__(self):\n",
    "        return f\"{self.__class__.__name__} of species {self.species}, color {self.color}, and age {self.age}\"\n",
    "\n",
    "    def walk(self):\n",
    "        print(\"I am walking!\")\n",
    "\n",
    "class Dog(Animal):\n",
    "    def sound(self):\n",
    "        print(\"Woof!\")\n",
    "\n",
    "class Cat(Animal):\n",
    "    def sound(self):\n",
    "        print(\"Meow!\")\n",
    "\n",
    "class Fish(Animal):\n",
    "    def walk(self):\n",
    "        print(\"I can't walk! I'm a fish!\")\n",
    "    def sound(self):\n",
    "        print(\"Glub glub glub!\")\n"
   ]
  },
  {
   "cell_type": "markdown",
   "metadata": {},
   "source": [
    "### Benefits of Subclassing:\n",
    "\n",
    "- Less repeated code\n",
    "- Only need to define functions that are not common to the superclass\n",
    "- Changing common functionality only needs to be done once in the superclass\n",
    "- With type hinting, one can write a function that accepts an arbitrary superclass (for example, a function `def take_animal_to_vet(my_animal: Animal)` could take any kind of animal)\n",
    "- Creates a clear hierarchy of objects"
   ]
  },
  {
   "cell_type": "markdown",
   "metadata": {},
   "source": [
    "### Protocols\n",
    "\n",
    "- A `Protocol` is a class defined by the `typing` package. \n",
    "- A new (abstract) class can inherit from `Protocol`, and this will be the \"blueprint\" for downstream classes. \n",
    "- Static type checkers (like in VS Code) can inforce that "
   ]
  },
  {
   "cell_type": "code",
   "execution_count": 1,
   "metadata": {},
   "outputs": [
    {
     "name": "stdout",
     "output_type": "stream",
     "text": [
      "Boeing 747 taking off from runway 32L!\n",
      "Here are some peanuts!\n",
      "Boeing 747 landing at SEA on runway 16C!\n"
     ]
    }
   ],
   "source": [
    "import typing\n",
    "\n",
    "\n",
    "class Aircraft(typing.Protocol):\n",
    "    color: str\n",
    "    def __init__(self, paint_color: str) -> None:\n",
    "        ...\n",
    "    def take_off(self, which_runway: str) -> None:\n",
    "        ...\n",
    "    def land(self, which_airport: str, which_runway: str) -> None:\n",
    "        ...\n",
    "    def serve_peanuts(self) -> None:\n",
    "        print(\"Here are some peanuts!\")\n",
    "\n",
    "class Boeing747(Aircraft):\n",
    "    def __init__(self, paint_color: str) -> None:\n",
    "        self.color = paint_color\n",
    "    def take_off(self, which_runway: str) -> None:\n",
    "        print(f\"Boeing 747 taking off from runway {which_runway}!\")\n",
    "    def land(self, which_airport: str, which_runway: str) -> None:\n",
    "        print(f\"Boeing 747 landing at {which_airport} on runway {which_runway}!\")\n",
    "\n",
    "my_747 = Boeing747(\"white\")\n",
    "my_747.take_off(\"32L\")\n",
    "my_747.serve_peanuts()\n",
    "my_747.land(\"SEA\", \"16C\")\n"
   ]
  },
  {
   "cell_type": "code",
   "execution_count": 7,
   "metadata": {},
   "outputs": [
    {
     "name": "stdout",
     "output_type": "stream",
     "text": [
      "I am being run directly!\n",
      "Hello World!\n"
     ]
    }
   ],
   "source": [
    "def main():\n",
    "    print(\"Hello World!\")\n",
    "\n",
    "if __name__ == \"__main__\":\n",
    "    print(\"I am being run directly!\")\n",
    "    main()"
   ]
  },
  {
   "cell_type": "markdown",
   "metadata": {},
   "source": [
    "## Type Hinting\n",
    "\n",
    "- Mostly used to assist in editing and coding modules that connect to each other\n",
    "- VS Code and other IDEs can read these type hints and suggest things and check correctness\n",
    "- Finds errors before running code in the first place"
   ]
  },
  {
   "cell_type": "code",
   "execution_count": 11,
   "metadata": {},
   "outputs": [],
   "source": [
    "# Type hint variables\n",
    "my_integer: int = 42\n",
    "my_str: str = \"Hello World!\"\n",
    "my_list: list = [1, \"A\", True]\n",
    "my_list_2: list[str] = [\"1\", \"A\", \"True\"]\n",
    "my_list_3: list[str | int | bool] = [1, \"A\", True]\n",
    "my_nested_list: list[list[str | int | bool] | str] = [[1, \"A\", True], \"Hello World\"]\n",
    "\n",
    "# Type and define later\n",
    "my_none_or_int: None | int\n",
    "my_none_or_int = 4"
   ]
  },
  {
   "cell_type": "code",
   "execution_count": 12,
   "metadata": {},
   "outputs": [
    {
     "name": "stdout",
     "output_type": "stream",
     "text": [
      "PNNL is a cool National Lab.\n",
      "10\n",
      "I think that the breakfast Plantain is sweet, good, and awesome.\n"
     ]
    }
   ],
   "source": [
    "from typing import Literal, NoReturn\n",
    "\n",
    "# Type hint functions\n",
    "def fn1(arg1: str, arg2: str):\n",
    "    return f\"{arg1} is a cool {arg2}.\"\n",
    "\n",
    "\n",
    "def fn2(arg1: list[int]) -> int:\n",
    "    return sum(arg1)\n",
    "\n",
    "# Type hint literals\n",
    "def fn3(breakfast: Literal[\"Eggs\", \"Bacon\", \"Rava Upma\", \"Plantain\"], adjectives: list[str]) -> str:\n",
    "    return (\n",
    "        f\"I think that the breakfast {breakfast} is\"\n",
    "        f\" {', '.join(adjectives[:-1])}{',' if len(adjectives) > 2 else ''}{f' and {adjectives[-1]}' if len(adjectives) > 1 else adjectives[-1]}.\"\n",
    "    )\n",
    "\n",
    "print(\n",
    "    fn1(\"PNNL\", \"National Lab\"),\n",
    "    fn2([1, 2, 3, 4]),\n",
    "    fn3(\"Plantain\", ['sweet', 'good', 'awesome']),\n",
    "    sep='\\n'\n",
    ")"
   ]
  },
  {
   "cell_type": "code",
   "execution_count": 13,
   "metadata": {},
   "outputs": [],
   "source": [
    "# type hint tuple; type hint NoReturn\n",
    "def fn4(tup: tuple[float, int, bool, None]) -> NoReturn:\n",
    "    print(tup)\n",
    "    raise RuntimeError(\"Test Error\")\n"
   ]
  },
  {
   "cell_type": "markdown",
   "metadata": {},
   "source": [
    "## Advanced Function Signatures"
   ]
  },
  {
   "cell_type": "markdown",
   "metadata": {},
   "source": [
    "#### Default arguments\n",
    "\n",
    "- Can use a default argument in a function signature with the syntax `def my_function(normal_arg1, normal_arg2, my_default_arg = default_value)`.\n",
    "- It's now optional to call `my_function` with a specified `my_default_arg`. \n",
    "- If nothing is specified for `my_default_arg`, it will take on `default_value` in `my_function`."
   ]
  },
  {
   "cell_type": "code",
   "execution_count": 14,
   "metadata": {},
   "outputs": [
    {
     "name": "stdout",
     "output_type": "stream",
     "text": [
      "4.14159\n"
     ]
    }
   ],
   "source": [
    "### Example\n",
    "\n",
    "def compute_3_num_sum(num1, num2, num3, print_answer = False):\n",
    "    answer = round(num1 + num2 + num3 ,6)\n",
    "    if print_answer:\n",
    "        print(answer)\n",
    "    return answer\n",
    "\n",
    "ans1 = compute_3_num_sum(1, 2, 3) # does not print\n",
    "ans2 = compute_3_num_sum(0, 1, 3.14159, print_answer = True) # prints"
   ]
  },
  {
   "cell_type": "markdown",
   "metadata": {},
   "source": [
    "#### Unlimited positional arguments\n",
    "\n",
    "- We can add any number of arguments using the unpack operator (`*`) with the syntax `def my_function(normal_arg1, normal_arg2, default_arg = default_val, *unlimited_extra_arguments)`\n",
    "- `*unlimited_extra_arguments` can accept any number of additional arguments, including zero\n",
    "- Commonly, you will see `def another_function(*args)`"
   ]
  },
  {
   "cell_type": "code",
   "execution_count": 15,
   "metadata": {},
   "outputs": [
    {
     "name": "stdout",
     "output_type": "stream",
     "text": [
      "42\n",
      "4.86\n",
      "21\n"
     ]
    }
   ],
   "source": [
    "### Example\n",
    "\n",
    "def compute_n_num_sum(first_num, *more_nums, print_answer = False):\n",
    "    answer = round(first_num + sum(more_nums), 6)\n",
    "    if print_answer:\n",
    "        print(answer)\n",
    "    return answer\n",
    "\n",
    "ans1 = compute_n_num_sum(42)\n",
    "print(ans1)\n",
    "ans2 = compute_n_num_sum(2.72, 3.14, -1, 0, print_answer = True)\n",
    "ans3 = compute_n_num_sum(0, *[1, 2, 3, 4, 5, 6], print_answer = True)  # Unpack before passing in"
   ]
  },
  {
   "cell_type": "markdown",
   "metadata": {},
   "source": [
    "#### Unlimited keyword-arguments\n",
    "\n",
    "- Like the single-star unpack opperator `*`, the double-star unpack opperator `**` can be used in a function signature to indicate that one can pass in an unlimited number of arguments. However, `**` is used for an unlimited number of **keyword** argumnets.\n",
    "- A keyword argument is an argument to a function with the syntax `my_function(keyword_arg1 = 1, keyword_arg2 = 2)`. \n",
    "- Commonly, you will see `def another_function(*args, **kwargs)`"
   ]
  },
  {
   "cell_type": "code",
   "execution_count": 16,
   "metadata": {},
   "outputs": [
    {
     "name": "stdout",
     "output_type": "stream",
     "text": [
      "a: 1\n",
      "b: 2\n",
      "c: 3\n",
      "\n",
      "1: a\n",
      "2: b\n",
      "3: c\n"
     ]
    }
   ],
   "source": [
    "### Example\n",
    "\n",
    "\n",
    "def pretty_print_key_value_pairs(**kwargs):\n",
    "    for key, value in kwargs.items():\n",
    "        print(f\"{key}: {value}\")\n",
    "\n",
    "\n",
    "pretty_print_key_value_pairs(a=1, b=2, c=3)\n",
    "print()\n",
    "pretty_print_key_value_pairs(**{'1': 'a', '2': 'b', '3': 'c'})  # Unpack before passing in\n"
   ]
  }
 ],
 "metadata": {
  "kernelspec": {
   "display_name": "py311",
   "language": "python",
   "name": "python3"
  },
  "language_info": {
   "codemirror_mode": {
    "name": "ipython",
    "version": 3
   },
   "file_extension": ".py",
   "mimetype": "text/x-python",
   "name": "python",
   "nbconvert_exporter": "python",
   "pygments_lexer": "ipython3",
   "version": "3.11.0"
  },
  "orig_nbformat": 4
 },
 "nbformat": 4,
 "nbformat_minor": 2
}

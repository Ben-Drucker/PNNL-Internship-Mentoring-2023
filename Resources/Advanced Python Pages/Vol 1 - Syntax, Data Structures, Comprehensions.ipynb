{
 "cells": [
  {
   "cell_type": "markdown",
   "metadata": {},
   "source": [
    "## Some advanced data types and syntax\n",
    "\n",
    "- `None` is like `null` or `nullptr` or `NULL` found in other programming languages.\n",
    "- `lambda` expressions allow one to create mini-functions on-the-fly. They can even be assigned to variables.\n",
    "- f-strings allow us to place variables in strings easily:"
   ]
  },
  {
   "cell_type": "code",
   "execution_count": 16,
   "metadata": {},
   "outputs": [
    {
     "name": "stdout",
     "output_type": "stream",
     "text": [
      "<class 'NoneType'>\n",
      "----------\n",
      "36\n",
      "----------\n",
      "It's a fact that 1 + 2 equals 3.\n"
     ]
    }
   ],
   "source": [
    "print(type(None))\n",
    "print(\"----------\")\n",
    "# Syntax >>> my_lambda_variable = lambda arg1, arg2, arg3: return_value\n",
    "add_two_nums = lambda num1, num2: num1 + num2\n",
    "get_squared_sum = lambda ls: sum(ls)**2\n",
    "print(get_squared_sum([1, 2, 3]))\n",
    "print(\"----------\")\n",
    "a = 1\n",
    "b = 2\n",
    "print(f\"It's a fact that {a} + {b} equals {a + b}.\")"
   ]
  },
  {
   "cell_type": "markdown",
   "metadata": {},
   "source": [
    "## Advanced `for` loops\n",
    "\n",
    "- Sometimes, we want to iterate over multiple items at a time. To do this, we can use the following syntax:"
   ]
  },
  {
   "cell_type": "code",
   "execution_count": 17,
   "metadata": {},
   "outputs": [
    {
     "name": "stdout",
     "output_type": "stream",
     "text": [
      "3\n",
      "pnnl\n",
      "isn't_this_fun_to_read?\n"
     ]
    }
   ],
   "source": [
    "list_of_tuples = [(1, 2), ('pn', 'nl'), ('isn\\'t_', 'this_fun_to_read?')] # Notice the escaped single quote \\'. \n",
    "for first_item, second_item in list_of_tuples:\n",
    "    print(first_item + second_item)"
   ]
  },
  {
   "cell_type": "markdown",
   "metadata": {},
   "source": [
    "- If we have two lists that we want to iterate over elementwise, we can use the `zip` function:"
   ]
  },
  {
   "cell_type": "code",
   "execution_count": 18,
   "metadata": {},
   "outputs": [
    {
     "name": "stdout",
     "output_type": "stream",
     "text": [
      "Richland is a city in WA.\n",
      "Philadelphia is a city in PA.\n",
      "Madison is a city in WI.\n",
      "Miami is a city in FL.\n",
      "Sacramento is a city in CA.\n"
     ]
    }
   ],
   "source": [
    "states = [\"WA\", \"PA\", \"WI\", \"FL\", \"CA\"]\n",
    "cities = [\"Richland\", \"Philadelphia\", \"Madison\", \"Miami\", \"Sacramento\"]\n",
    "for s, c in zip(states, cities):\n",
    "    print(f\"{c} is a city in {s}.\")"
   ]
  },
  {
   "cell_type": "markdown",
   "metadata": {},
   "source": [
    "- If we have a variable number of things that are being zipped together, we can use the unpack operator `*` (same as multiplication) to unpack all or some of the arguments:"
   ]
  },
  {
   "cell_type": "code",
   "execution_count": 19,
   "metadata": {},
   "outputs": [
    {
     "name": "stdout",
     "output_type": "stream",
     "text": [
      "How the lists started\n",
      "[['P', 'R', 'S'], ['F', 'S', 'A'], ['S', 'U', 'A'], ['E', 'L', 'S'], ['W', 'S', 'N']]\n",
      "One grouping option\n",
      "P ['F', 'S', 'E'] W\n",
      "R ['S', 'U', 'L'] S\n",
      "S ['A', 'A', 'S'] N\n",
      "Another grouping option\n",
      "['P', 'F', 'S', 'E'] W\n",
      "['R', 'S', 'U', 'L'] S\n",
      "['S', 'A', 'A', 'S'] N\n"
     ]
    }
   ],
   "source": [
    "import random\n",
    "\n",
    "ALPHABET = list('ABCDEFGHIJKLMNOPQRSTUVWXYZ') # Get a list of all letters\n",
    "how_many_lists = 5\n",
    "how_many_nums = 3\n",
    "list_of_rands = []\n",
    "for i in range(how_many_lists):\n",
    "    inner_list = []\n",
    "    for j in range(how_many_nums):\n",
    "        inner_list.append(random.choice(ALPHABET))\n",
    "    list_of_rands.append(inner_list)\n",
    "\n",
    "print(\"How the lists started\")\n",
    "print(list_of_rands)\n",
    "\n",
    "print(\"One grouping option\")\n",
    "for first_num, *middles, last_num in zip(*list_of_rands): # The unpack operator is being used in two ways on this line.\n",
    "    print(first_num, middles, last_num)\n",
    "\n",
    "print(\"Another grouping option\")\n",
    "for *all_but_last, last_num in zip(*list_of_rands):\n",
    "    print(all_but_last, last_num)"
   ]
  },
  {
   "cell_type": "markdown",
   "metadata": {},
   "source": [
    "## Data Structures"
   ]
  },
  {
   "cell_type": "markdown",
   "metadata": {},
   "source": [
    "### Mutability\n",
    "\n",
    "A Python object is _mutable_ if it is changable \n",
    "\n",
    "<u>Examples of Python objects that are mutable</u>\n",
    "\n",
    "1. `list`s\n",
    "2. `dict`s\n",
    "3. `set`s\n",
    "\n",
    "<u>Examples of Python objects that are <i style = \"font-weight: bold\">NOT</i> hashable</u>\n",
    "\n",
    "1. `str`s\n",
    "2. `tuple`s\n",
    "3. `int`s\n",
    "4. `bool`s\n",
    "5. `None`s\n",
    "\n",
    "\n",
    "### Hashability\n",
    "\n",
    "A Python object is _hashable_ if it satisfies the following criteria:\n",
    "\n",
    "1. ✯✯✯ It is **immutable**\n",
    "2. It has a **`__hash__`** method (function) that maps the object to an integer\n",
    "<figure>\n",
    "    <img src=\"images/Hash-function.jpg\" width = 300px>\n",
    "    <figcaption><i>Hash function diagram. Source: https://cybersecurityglossary.com/hash-function/</i></figcaption>\n",
    "</figure>\n",
    "\n",
    "3. It is comparable to other objects. I.e., it has either an **`__eq__`** method or a **`__cmp__`** method.\n",
    "4. If the hash of this object is equal to the hash of another object, they must be equal objects (i.e., `__eq__` returns `True` or `__cmp__` returns `0`)\n",
    "\n",
    "<u>Examples of Python objects that are hashable</u>\n",
    "\n",
    "1. `str`s\n",
    "2. `tuple`s\n",
    "3. `int`s\n",
    "4. `bool`s\n",
    "5. `None`s\n",
    "\n",
    "<u>Examples of Python objects that are <i style = \"font-weight: bold\">NOT</i> hashable</u>\n",
    "\n",
    "1. `list`s\n",
    "2. `dict`s\n",
    "3. `set`s"
   ]
  },
  {
   "cell_type": "markdown",
   "metadata": {},
   "source": [
    "### Dictionaries\n",
    "\n",
    "Dictionaries are data structures that map unique, hashable keys to values. So a dictionary acts like a mini function that returns a value based on the input key. In python, dictionaries may map arbitrary types to other arbitrary types. The only restriction is that the keys may not be mutable (changable data structures like dictionaries or lists). For example,"
   ]
  },
  {
   "cell_type": "code",
   "execution_count": 20,
   "metadata": {},
   "outputs": [
    {
     "name": "stdout",
     "output_type": "stream",
     "text": [
      "{None: None,\n",
      " False: True,\n",
      " 'func': <function sample_fn at 0x105a718a0>,\n",
      " 'key1': 1}\n"
     ]
    }
   ],
   "source": [
    "import pprint # Import a module that pretty-prints dictionaries\n",
    "\n",
    "def sample_fn(a, b, c):\n",
    "    return a + b + c\n",
    "\n",
    "my_dict = {'key1': 1, False: True, None: None, 'func': sample_fn}\n",
    "pprint.pprint(my_dict)"
   ]
  },
  {
   "cell_type": "markdown",
   "metadata": {},
   "source": [
    "When one iterates over dictionaries, Python automatically iterates over the keys. For example,"
   ]
  },
  {
   "cell_type": "code",
   "execution_count": 21,
   "metadata": {},
   "outputs": [
    {
     "name": "stdout",
     "output_type": "stream",
     "text": [
      "key1 1\n",
      "False True\n",
      "None None\n",
      "func <function sample_fn at 0x105a718a0>\n"
     ]
    }
   ],
   "source": [
    "for k in my_dict:\n",
    "    print(k, my_dict[k])"
   ]
  },
  {
   "cell_type": "markdown",
   "metadata": {},
   "source": [
    "### Sets"
   ]
  },
  {
   "cell_type": "markdown",
   "metadata": {},
   "source": [
    "A `set` is a mutable, unordered collection of unique keys."
   ]
  },
  {
   "cell_type": "code",
   "execution_count": 22,
   "metadata": {},
   "outputs": [
    {
     "data": {
      "text/plain": [
       "{1, 2, 3}"
      ]
     },
     "execution_count": 22,
     "metadata": {},
     "output_type": "execute_result"
    }
   ],
   "source": [
    "set([1, 2, 3]) # Can construct with list"
   ]
  },
  {
   "cell_type": "code",
   "execution_count": 23,
   "metadata": {},
   "outputs": [
    {
     "data": {
      "text/plain": [
       "{1, 2, 3}"
      ]
     },
     "execution_count": 23,
     "metadata": {},
     "output_type": "execute_result"
    }
   ],
   "source": [
    "{1, 2, 3} # Can construct with curly braces"
   ]
  },
  {
   "cell_type": "code",
   "execution_count": 24,
   "metadata": {},
   "outputs": [
    {
     "data": {
      "text/plain": [
       "set()"
      ]
     },
     "execution_count": 24,
     "metadata": {},
     "output_type": "execute_result"
    }
   ],
   "source": [
    "set() # The way to make an empty set"
   ]
  },
  {
   "cell_type": "code",
   "execution_count": 25,
   "metadata": {},
   "outputs": [
    {
     "data": {
      "text/plain": [
       "dict"
      ]
     },
     "execution_count": 25,
     "metadata": {},
     "output_type": "execute_result"
    }
   ],
   "source": [
    "type({}) # The way NOT to make an empty set -- The syntax `{}` denotes an empty `dict`."
   ]
  },
  {
   "cell_type": "code",
   "execution_count": 26,
   "metadata": {},
   "outputs": [
    {
     "name": "stdout",
     "output_type": "stream",
     "text": [
      "{'d', 'a', 'b', 'c'}\n"
     ]
    }
   ],
   "source": [
    "s = {'a', 'b', 'c'}\n",
    "s.add('d') # Add items to a set\n",
    "print(s)"
   ]
  },
  {
   "cell_type": "code",
   "execution_count": 28,
   "metadata": {},
   "outputs": [
    {
     "ename": "AttributeError",
     "evalue": "'set' object has no attribute 'sort'",
     "output_type": "error",
     "traceback": [
      "\u001b[0;31m---------------------------------------------------------------------------\u001b[0m",
      "\u001b[0;31mAttributeError\u001b[0m                            Traceback (most recent call last)",
      "Cell \u001b[0;32mIn[28], line 1\u001b[0m\n\u001b[0;32m----> 1\u001b[0m s\u001b[39m.\u001b[39;49msort() \u001b[39m# Sets cannot be sorted as they are unordered.\u001b[39;00m\n",
      "\u001b[0;31mAttributeError\u001b[0m: 'set' object has no attribute 'sort'"
     ]
    }
   ],
   "source": [
    "s.sort() # Sets cannot be sorted as they are unordered."
   ]
  },
  {
   "cell_type": "code",
   "execution_count": 29,
   "metadata": {},
   "outputs": [
    {
     "name": "stdout",
     "output_type": "stream",
     "text": [
      "{'d', 'b', 'c'}\n"
     ]
    }
   ],
   "source": [
    "s.remove('a') # Remove an element from a set\n",
    "print(s)"
   ]
  },
  {
   "cell_type": "code",
   "execution_count": 30,
   "metadata": {},
   "outputs": [
    {
     "name": "stdout",
     "output_type": "stream",
     "text": [
      "False True\n"
     ]
    }
   ],
   "source": [
    "print('a' in s, 'b' in s) # Check if items are in a set"
   ]
  },
  {
   "cell_type": "markdown",
   "metadata": {},
   "source": [
    "### Tuples"
   ]
  },
  {
   "cell_type": "markdown",
   "metadata": {},
   "source": [
    "Tuples are immutable, ordered collections of (not necessarily unique) Python objects."
   ]
  },
  {
   "cell_type": "code",
   "execution_count": 31,
   "metadata": {},
   "outputs": [],
   "source": [
    "t = (1, 2, 3) # Construct a set with parentheses"
   ]
  },
  {
   "cell_type": "code",
   "execution_count": 32,
   "metadata": {},
   "outputs": [],
   "source": [
    "t = ('a', ) # The way to construct a single-element set. Notice the trailing comma!"
   ]
  },
  {
   "cell_type": "code",
   "execution_count": 33,
   "metadata": {},
   "outputs": [
    {
     "name": "stdout",
     "output_type": "stream",
     "text": [
      "<class 'str'>\n"
     ]
    }
   ],
   "source": [
    "t = ('a') # The way NOT to construct a single-element set.\n",
    "print(type(t))"
   ]
  },
  {
   "cell_type": "code",
   "execution_count": 34,
   "metadata": {},
   "outputs": [],
   "source": [
    "t = tuple([1, 2, 3]) # Construct a set with a list"
   ]
  },
  {
   "cell_type": "code",
   "execution_count": 35,
   "metadata": {},
   "outputs": [
    {
     "ename": "TypeError",
     "evalue": "'tuple' object does not support item assignment",
     "output_type": "error",
     "traceback": [
      "\u001b[0;31m---------------------------------------------------------------------------\u001b[0m",
      "\u001b[0;31mTypeError\u001b[0m                                 Traceback (most recent call last)",
      "Cell \u001b[0;32mIn[35], line 1\u001b[0m\n\u001b[0;32m----> 1\u001b[0m t[\u001b[39m1\u001b[39;49m] \u001b[39m=\u001b[39m \u001b[39m20\u001b[39m \u001b[39m# One cannot modify a tuple.\u001b[39;00m\n",
      "\u001b[0;31mTypeError\u001b[0m: 'tuple' object does not support item assignment"
     ]
    }
   ],
   "source": [
    "t[1] = 20 # One cannot modify a tuple."
   ]
  },
  {
   "cell_type": "code",
   "execution_count": 36,
   "metadata": {},
   "outputs": [],
   "source": [
    "t = (1, [2, 20, 200, 2_000], 3)  # Tuples can have mixed types."
   ]
  },
  {
   "cell_type": "code",
   "execution_count": 37,
   "metadata": {},
   "outputs": [
    {
     "name": "stdout",
     "output_type": "stream",
     "text": [
      "(1, [-2, 20, 200, 2000], 3)\n"
     ]
    }
   ],
   "source": [
    "t[1][0] = -2  # However, one can modify a tuple element. Why is this possible? Hint: how is Python storing the element in t at index 1?\n",
    "print(t) "
   ]
  },
  {
   "cell_type": "code",
   "execution_count": 38,
   "metadata": {},
   "outputs": [
    {
     "data": {
      "text/plain": [
       "[(1, 'a'), (2, 'b'), (3, 'c')]"
      ]
     },
     "execution_count": 38,
     "metadata": {},
     "output_type": "execute_result"
    }
   ],
   "source": [
    "list(zip([1, 2, 3], ['a', 'b', 'c'])) # Create a list of tuples with `zip`"
   ]
  },
  {
   "cell_type": "markdown",
   "metadata": {},
   "source": [
    "### List Comprehensions\n",
    "\n",
    "```python\n",
    "[element for ... in ...]\n",
    "```"
   ]
  },
  {
   "cell_type": "code",
   "execution_count": 39,
   "metadata": {},
   "outputs": [
    {
     "data": {
      "text/plain": [
       "[0, 1, 4, 9, 16]"
      ]
     },
     "execution_count": 39,
     "metadata": {},
     "output_type": "execute_result"
    }
   ],
   "source": [
    "[i**2 for i in range(5)]"
   ]
  },
  {
   "cell_type": "code",
   "execution_count": 40,
   "metadata": {},
   "outputs": [
    {
     "data": {
      "text/plain": [
       "[16, 16, 16, 16, 16]"
      ]
     },
     "execution_count": 40,
     "metadata": {},
     "output_type": "execute_result"
    }
   ],
   "source": [
    "[i**2 for _ in range(5)]"
   ]
  },
  {
   "cell_type": "code",
   "execution_count": 41,
   "metadata": {},
   "outputs": [
    {
     "data": {
      "text/plain": [
       "[0, 0, 1, 3, 6]"
      ]
     },
     "execution_count": 41,
     "metadata": {},
     "output_type": "execute_result"
    }
   ],
   "source": [
    "[sum(list(range(i))) for i in range(5)]"
   ]
  },
  {
   "cell_type": "code",
   "execution_count": 42,
   "metadata": {},
   "outputs": [
    {
     "data": {
      "text/plain": [
       "['0 is a number.',\n",
       " '1 is a number.',\n",
       " '2 is a number.',\n",
       " '3 is a number.',\n",
       " '4 is a number.']"
      ]
     },
     "execution_count": 42,
     "metadata": {},
     "output_type": "execute_result"
    }
   ],
   "source": [
    "[f\"{n} is a number.\" for n in range(5)]"
   ]
  },
  {
   "cell_type": "code",
   "execution_count": 43,
   "metadata": {},
   "outputs": [
    {
     "data": {
      "text/plain": [
       "['42 is a number.',\n",
       " '21 is a number.',\n",
       " '74 is a number.',\n",
       " '93 is a number.',\n",
       " '-1000 is a number.']"
      ]
     },
     "execution_count": 43,
     "metadata": {},
     "output_type": "execute_result"
    }
   ],
   "source": [
    "[f\"{n} is a number.\" for n in [42, 21, 74, 93, -1000]]"
   ]
  },
  {
   "cell_type": "code",
   "execution_count": 44,
   "metadata": {},
   "outputs": [
    {
     "data": {
      "text/plain": [
       "[0, 1, 2, 1, 2, 3, 2, 3, 4, 3, 4, 5, 4, 5, 6]"
      ]
     },
     "execution_count": 44,
     "metadata": {},
     "output_type": "execute_result"
    }
   ],
   "source": [
    "[i + j for i in range(5) for j in range(3)]"
   ]
  },
  {
   "cell_type": "code",
   "execution_count": 45,
   "metadata": {},
   "outputs": [
    {
     "data": {
      "text/plain": [
       "[0, 4, 16, 36, 64]"
      ]
     },
     "execution_count": 45,
     "metadata": {},
     "output_type": "execute_result"
    }
   ],
   "source": [
    "[i**2 for i in range(10) if i % 2 == 0]"
   ]
  },
  {
   "cell_type": "code",
   "execution_count": 46,
   "metadata": {},
   "outputs": [
    {
     "data": {
      "text/plain": [
       "[0, -1, 4, -1, 16, -1, 36, -1, 64, -1]"
      ]
     },
     "execution_count": 46,
     "metadata": {},
     "output_type": "execute_result"
    }
   ],
   "source": [
    "[(i**2 if i % 2 == 0 else -1) for i in range(10)]"
   ]
  },
  {
   "cell_type": "code",
   "execution_count": 47,
   "metadata": {},
   "outputs": [
    {
     "data": {
      "text/plain": [
       "[-1, 9, -1, -1, 81, -1, -1, 225, -1, -1]"
      ]
     },
     "execution_count": 47,
     "metadata": {},
     "output_type": "execute_result"
    }
   ],
   "source": [
    "[i**2 if i % 3 == 0 else -1 for i in range(20) if i %2]"
   ]
  },
  {
   "cell_type": "markdown",
   "metadata": {},
   "source": [
    "### Dictionary Comprehensions\n",
    "\n",
    "```python\n",
    "{key: value for ... in ...}\n",
    "```"
   ]
  },
  {
   "cell_type": "code",
   "execution_count": 48,
   "metadata": {},
   "outputs": [
    {
     "data": {
      "text/plain": [
       "{0: 'Is a number.',\n",
       " 1: 'Is a number.',\n",
       " 2: 'Is a number.',\n",
       " 3: 'Is a number.',\n",
       " 4: 'Is a number.'}"
      ]
     },
     "execution_count": 48,
     "metadata": {},
     "output_type": "execute_result"
    }
   ],
   "source": [
    "{i: 'Is a number.' for i in range(5)}"
   ]
  },
  {
   "cell_type": "code",
   "execution_count": 49,
   "metadata": {},
   "outputs": [
    {
     "data": {
      "text/plain": [
       "{0: 'Even', 1: 'Odd', 2: 'Even', 3: 'Odd', 4: 'Even', 5: 'Odd'}"
      ]
     },
     "execution_count": 49,
     "metadata": {},
     "output_type": "execute_result"
    }
   ],
   "source": [
    "{i: j for i, j in zip(range(6), ['Even', 'Odd']*3)}"
   ]
  },
  {
   "cell_type": "code",
   "execution_count": 50,
   "metadata": {},
   "outputs": [
    {
     "data": {
      "text/plain": [
       "{0: -5, -1: 6, 2: -7, -3: 8, 4: -9}"
      ]
     },
     "execution_count": 50,
     "metadata": {},
     "output_type": "execute_result"
    }
   ],
   "source": [
    "{i if i % 2 == 0 else -i: j if j % 2 == 0 else -j for i, j in zip(range(5), range(5, 10))}"
   ]
  },
  {
   "cell_type": "code",
   "execution_count": 51,
   "metadata": {},
   "outputs": [
    {
     "data": {
      "text/plain": [
       "{2: -7}"
      ]
     },
     "execution_count": 51,
     "metadata": {},
     "output_type": "execute_result"
    }
   ],
   "source": [
    "{i if i % 2 == 0 else -i: j if j % 2 == 0 else -j for i, j in zip(range(5), range(5, 10)) if i + j == 9}"
   ]
  },
  {
   "cell_type": "code",
   "execution_count": 52,
   "metadata": {},
   "outputs": [
    {
     "data": {
      "text/plain": [
       "{0: [0.31, 0.12, 0.37, 0.57, 0.28],\n",
       " 1: [0.34, 0.69, 0.64, 0.95, 0.75],\n",
       " 2: [0.77, 0.86, 0.23, 0.17, 0.36],\n",
       " 3: [0.29, 0.57, 0.12, 0.97, 0.4],\n",
       " 4: [0.29, 0.79, 0.24, 0.93, 0.87]}"
      ]
     },
     "execution_count": 52,
     "metadata": {},
     "output_type": "execute_result"
    }
   ],
   "source": [
    "{x: [round(random.random(), 2) for i in range(5)] for x in range(5)}"
   ]
  },
  {
   "cell_type": "code",
   "execution_count": 53,
   "metadata": {},
   "outputs": [
    {
     "data": {
      "text/plain": [
       "{0: [{0: 0, 1: 1, 4: 2, 9: 3, 16: 4},\n",
       "  {0: 0, 1: 1, 4: 2, 9: 3, 16: 4},\n",
       "  {0: 0, 1: 1, 4: 2, 9: 3, 16: 4},\n",
       "  {0: 0, 1: 1, 4: 2, 9: 3, 16: 4},\n",
       "  {0: 0, 1: 1, 4: 2, 9: 3, 16: 4}],\n",
       " 1: [{0: 0, 1: 1, 4: 2, 9: 3, 16: 4},\n",
       "  {0: 0, 1: 1, 4: 2, 9: 3, 16: 4},\n",
       "  {0: 0, 1: 1, 4: 2, 9: 3, 16: 4},\n",
       "  {0: 0, 1: 1, 4: 2, 9: 3, 16: 4},\n",
       "  {0: 0, 1: 1, 4: 2, 9: 3, 16: 4}],\n",
       " 2: [{0: 0, 1: 1, 4: 2, 9: 3, 16: 4},\n",
       "  {0: 0, 1: 1, 4: 2, 9: 3, 16: 4},\n",
       "  {0: 0, 1: 1, 4: 2, 9: 3, 16: 4},\n",
       "  {0: 0, 1: 1, 4: 2, 9: 3, 16: 4},\n",
       "  {0: 0, 1: 1, 4: 2, 9: 3, 16: 4}],\n",
       " 3: [{0: 0, 1: 1, 4: 2, 9: 3, 16: 4},\n",
       "  {0: 0, 1: 1, 4: 2, 9: 3, 16: 4},\n",
       "  {0: 0, 1: 1, 4: 2, 9: 3, 16: 4},\n",
       "  {0: 0, 1: 1, 4: 2, 9: 3, 16: 4},\n",
       "  {0: 0, 1: 1, 4: 2, 9: 3, 16: 4}],\n",
       " 4: [{0: 0, 1: 1, 4: 2, 9: 3, 16: 4},\n",
       "  {0: 0, 1: 1, 4: 2, 9: 3, 16: 4},\n",
       "  {0: 0, 1: 1, 4: 2, 9: 3, 16: 4},\n",
       "  {0: 0, 1: 1, 4: 2, 9: 3, 16: 4},\n",
       "  {0: 0, 1: 1, 4: 2, 9: 3, 16: 4}]}"
      ]
     },
     "execution_count": 53,
     "metadata": {},
     "output_type": "execute_result"
    }
   ],
   "source": [
    "{x: [{a**2: b for a, b in zip(range(5), range(5))} for i in range(5)] for x in range(5)}"
   ]
  },
  {
   "cell_type": "markdown",
   "metadata": {},
   "source": [
    "### Set comprehensions\n",
    "\n",
    "```python\n",
    "    {unique_element for ... in ...}\n",
    "```"
   ]
  },
  {
   "cell_type": "code",
   "execution_count": 54,
   "metadata": {},
   "outputs": [
    {
     "data": {
      "text/plain": [
       "{0, 1, 2, 3, 4}"
      ]
     },
     "execution_count": 54,
     "metadata": {},
     "output_type": "execute_result"
    }
   ],
   "source": [
    "{i for i in range(5)}"
   ]
  },
  {
   "cell_type": "code",
   "execution_count": 55,
   "metadata": {},
   "outputs": [
    {
     "data": {
      "text/plain": [
       "{0}"
      ]
     },
     "execution_count": 55,
     "metadata": {},
     "output_type": "execute_result"
    }
   ],
   "source": [
    "{0 for _ in range(5)}"
   ]
  }
 ],
 "metadata": {
  "kernelspec": {
   "display_name": "py311",
   "language": "python",
   "name": "python3"
  },
  "language_info": {
   "codemirror_mode": {
    "name": "ipython",
    "version": 3
   },
   "file_extension": ".py",
   "mimetype": "text/x-python",
   "name": "python",
   "nbconvert_exporter": "python",
   "pygments_lexer": "ipython3",
   "version": "3.11.0"
  },
  "orig_nbformat": 4
 },
 "nbformat": 4,
 "nbformat_minor": 2
}

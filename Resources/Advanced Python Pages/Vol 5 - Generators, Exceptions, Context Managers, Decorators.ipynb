{
 "cells": [
  {
   "cell_type": "markdown",
   "metadata": {},
   "source": [
    "## Generators\n",
    "\n",
    "- Generators are Python objects that — when iterated over — call a generating function that returns a value\n",
    "- After the generating function returns the value, the execution of that function pauses until the next object is requested.\n",
    "- Some examples of statements that behave like generators are:"
   ]
  },
  {
   "cell_type": "code",
   "execution_count": 9,
   "metadata": {},
   "outputs": [
    {
     "name": "stdout",
     "output_type": "stream",
     "text": [
      "<generator object <genexpr> at 0x10e33edc0>\n",
      "<zip object at 0x10e377bc0>\n",
      "<enumerate object at 0x10e381350>\n"
     ]
    }
   ],
   "source": [
    "print(i**2 for i in range(10)) # No brackets!\n",
    "print(zip(['a', 'b', 'c'], [1, 2, 3]))\n",
    "print(enumerate([True, False, True, False]))"
   ]
  },
  {
   "cell_type": "markdown",
   "metadata": {},
   "source": [
    "- You can make your own generators with the following method using the `yield` keyword:"
   ]
  },
  {
   "cell_type": "code",
   "execution_count": 12,
   "metadata": {},
   "outputs": [
    {
     "name": "stdout",
     "output_type": "stream",
     "text": [
      "Obtained generator: <generator object my_generating_func at 0x10e34cc80>\n",
      "Here's your greeting: Hello!\n",
      "Here's your greeting: What's up?\n",
      "Here's your greeting: Hi!\n",
      "Here's your greeting: Hello!\n",
      "Here's your greeting: Hey!\n",
      "Here's your greeting: Hey!\n",
      "Here's your greeting: Hello!\n",
      "Here's your greeting: How's it going?\n",
      "Here's your greeting: How's it going?\n",
      "Here's your greeting: What's up?\n"
     ]
    }
   ],
   "source": [
    "import random\n",
    "GREETINGS = [\"Hi!\", \"Hey!\", \"How's it going?\", \"What's up?\", \"Hello!\", \"Good to see you!\"] # All caps for constant variable\n",
    "\n",
    "def my_generating_func(num_greetings):\n",
    "    for _ in range(num_greetings): # Underscore loop variable when not using variable\n",
    "        print(\"Here's your greeting: \", end = \"\") # Use `end` parameter to control end of print statement character\n",
    "        yield random.choice(GREETINGS) # Use of yield pauses function execution until func. is called again\n",
    "\n",
    "# Obtain generator. Note that this doesn't do anything.\n",
    "greeting_generator = my_generating_func(10)\n",
    "print(\"Obtained generator:\", greeting_generator)\n",
    "for greeting in greeting_generator:\n",
    "    print(greeting)\n"
   ]
  },
  {
   "cell_type": "markdown",
   "metadata": {},
   "source": [
    "## Context Managers\n",
    "\n",
    "- In python, a context manager provides a syntactically clear way to run a chunk of code for which an \"enter\" and \"exit\" procedure need to run before and after the chunk, respectively.\n",
    "- A common usage of a context manager is for I/O operations, such opening, reading, and closing a file.\n",
    "- A context manager is \"syntactic sugar,\" i.e., a piece of \"expressive\" syntax enabling some functionality that could technically be performed a different way."
   ]
  },
  {
   "cell_type": "code",
   "execution_count": 13,
   "metadata": {},
   "outputs": [],
   "source": [
    "### Example -- opening, reading, and closing a file the OLD WAY\n",
    "fp = open(\"./../../Tutorials/images/Printout.svg\") # \"Enter\"\n",
    "lines = fp.readlines()\n",
    "fp.close() # \"Exit\" (Could forget to do this!)\n",
    "\n",
    "### Example -- new way with a CONTEXT MANAGER\n",
    "with open(\"./../../Tutorials/images/Printout.svg\") as fp: # Automatic \"Enter\"/\"Exit\"\n",
    "    lines = fp.readlines()"
   ]
  },
  {
   "cell_type": "markdown",
   "metadata": {},
   "source": [
    "- You can define your own context managers with the `contextlib` package."
   ]
  },
  {
   "cell_type": "code",
   "execution_count": 14,
   "metadata": {},
   "outputs": [
    {
     "name": "stdout",
     "output_type": "stream",
     "text": [
      "Opening an I/O resource...\n",
      "Doing something with the I/O resource...\n",
      "Closing the I/O resource...\n"
     ]
    }
   ],
   "source": [
    "import contextlib\n",
    "\n",
    "def do_something_with_resource():\n",
    "    print(\"Doing something with the I/O resource...\")\n",
    "\n",
    "def close_resource():\n",
    "    print(\"Closing the I/O resource...\")\n",
    "\n",
    "@contextlib.contextmanager\n",
    "def open_resource():\n",
    "    print(\"Opening an I/O resource...\")\n",
    "    yield\n",
    "    close_resource()\n",
    "\n",
    "#############################################################\n",
    "\n",
    "with open_resource():\n",
    "    do_something_with_resource()\n"
   ]
  },
  {
   "cell_type": "markdown",
   "metadata": {},
   "source": [
    "## Exceptions\n",
    "\n",
    "- Exceptions are errors produced by Python code.\n",
    "- Sometimes, we don't want a program to crash because it encountered an Exception.\n",
    "- We can \"except\" Exceptions to handle the errors"
   ]
  },
  {
   "cell_type": "code",
   "execution_count": 5,
   "metadata": {},
   "outputs": [
    {
     "name": "stdout",
     "output_type": "stream",
     "text": [
      "This piece of code works!\n",
      "This will fail: trying to reference undefined variable 3.\n",
      "Whether or not there was an error, I'll always execute.\n",
      "-----------------------------------------------------------------------\n",
      "This piece of code works!\n",
      "I will define `x = 3` this time.\n",
      "This will not fail: trying to reference a defined variable x=3.\n",
      "Whether or not there was an error, I'll always execute.\n",
      "-----------------------------------------------------------------------\n",
      "This piece of code works!\n",
      "This will fail: trying to reference undefined variable 3.\n"
     ]
    }
   ],
   "source": [
    "try:\n",
    "    print(\"This piece of code works!\")\n",
    "    print(f\"This will fail: trying to reference undefined variable {x}.\")\n",
    "except Exception as e:\n",
    "    print(f\"Your exception: {e}\")\n",
    "finally:\n",
    "    print(\"Whether or not there was an error, I'll always execute.\")\n",
    "\n",
    "print(\"-----------------------------------------------------------------------\")\n",
    "\n",
    "try:\n",
    "    print(\"This piece of code works!\")\n",
    "    print(\"I will define `x = 3` this time.\")\n",
    "    x = 3\n",
    "    print(f\"This will not fail: trying to reference a defined variable {x=}.\")\n",
    "except Exception as e:\n",
    "    print(f\"Your exception: {e}\")\n",
    "finally:\n",
    "    print(\"Whether or not there was an error, I'll always execute.\")\n",
    "\n",
    "print(\"-----------------------------------------------------------------------\")\n",
    "\n",
    "try:\n",
    "    print(\"This piece of code works!\")\n",
    "    print(f\"This will fail: trying to reference undefined variable {x}.\")\n",
    "except Exception as e:\n",
    "    pass\n"
   ]
  },
  {
   "cell_type": "markdown",
   "metadata": {},
   "source": [
    "## Decorators\n",
    "\n",
    "- Decorators are another piece of syntactic sugar, this time placed above function definitions.\n",
    "- Decorators modify how a function works.\n",
    "- Decorators represent an \"outer\" function that calls the decorated function."
   ]
  },
  {
   "cell_type": "code",
   "execution_count": 9,
   "metadata": {},
   "outputs": [
    {
     "name": "stdout",
     "output_type": "stream",
     "text": [
      "In the wrapper.\n"
     ]
    }
   ],
   "source": [
    "def wrapper(inner):\n",
    "    print(\"In the wrapper.\")\n",
    "    inner()\n",
    "\n",
    "@wrapper\n",
    "def decorated_fn():\n",
    "    print(\"In the 'inner', 'decorated' function.\")"
   ]
  },
  {
   "cell_type": "code",
   "execution_count": 20,
   "metadata": {},
   "outputs": [
    {
     "name": "stdout",
     "output_type": "stream",
     "text": [
      "In the wrapper.\n",
      "In the 'inner', 'decorated' function. My args are: \n",
      " {'arg1': 21,\n",
      " 'arg2': 'a',\n",
      " 'args': ('b', 'c'),\n",
      " 'kwargs': {'one': 1, 'three': 3, 'two': 2}}\n"
     ]
    }
   ],
   "source": [
    "from pprint import pformat\n",
    "\n",
    "def decoration(inner):\n",
    "    print(\"In the wrapper.\")\n",
    "    return inner\n",
    "\n",
    "@decoration\n",
    "def decorated_fn(arg1, arg2: int | str = 42, *args, **kwargs):\n",
    "    print(f\"In the 'inner', 'decorated' function. My args are: \\n {pformat(locals())}\")\n",
    "\n",
    "decorated_fn(21, 'a', 'b', 'c', one = 1, two = 2, three = 3)"
   ]
  }
 ],
 "metadata": {
  "kernelspec": {
   "display_name": "py311",
   "language": "python",
   "name": "python3"
  },
  "language_info": {
   "codemirror_mode": {
    "name": "ipython",
    "version": 3
   },
   "file_extension": ".py",
   "mimetype": "text/x-python",
   "name": "python",
   "nbconvert_exporter": "python",
   "pygments_lexer": "ipython3",
   "version": "3.11.0"
  },
  "orig_nbformat": 4
 },
 "nbformat": 4,
 "nbformat_minor": 2
}

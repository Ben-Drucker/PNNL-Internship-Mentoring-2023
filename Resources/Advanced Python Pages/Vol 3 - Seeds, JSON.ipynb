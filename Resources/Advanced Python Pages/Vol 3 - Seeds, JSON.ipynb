{
 "cells": [
  {
   "cell_type": "markdown",
   "metadata": {},
   "source": [
    "## Seeds\n",
    "\n",
    "- Setting random seeds helps us attain reproducability even if a piece of code requires randomness.\n",
    "- Seeds need to be set in different ways depending on the library that uses randomness."
   ]
  },
  {
   "cell_type": "code",
   "execution_count": 10,
   "metadata": {},
   "outputs": [
    {
     "name": "stdout",
     "output_type": "stream",
     "text": [
      "0.8444218515250481\n"
     ]
    }
   ],
   "source": [
    "# In \"Base\" random package...\n",
    "\n",
    "import random\n",
    "\n",
    "random.seed(0)\n",
    "\n",
    "print(random.random())"
   ]
  },
  {
   "cell_type": "code",
   "execution_count": 11,
   "metadata": {},
   "outputs": [
    {
     "name": "stdout",
     "output_type": "stream",
     "text": [
      "[[44 47 64 67 67  9 83 21 36 87]\n",
      " [70 88 88 12 58 65 39 87 46 88]\n",
      " [81 37 25 77 72  9 20 80 69 79]\n",
      " [47 64 82 99 88 49 29 19 19 14]\n",
      " [39 32 65  9 57 32 31 74 23 35]\n",
      " [75 55 28 34  0  0 36 53  5 38]\n",
      " [17 79  4 42 58 31  1 65 41 57]\n",
      " [35 11 46 82 91  0 14 99 53 12]\n",
      " [42 84 75 68  6 68 47  3 76 52]\n",
      " [78 15 20 99 58 23 79 13 85 48]]\n"
     ]
    }
   ],
   "source": [
    "# In Numpy...\n",
    "\n",
    "import numpy as np\n",
    "\n",
    "np.random.seed(0)\n",
    "\n",
    "a = np.random.randint(0, 100, size = (10, 10))\n",
    "\n",
    "print(a)"
   ]
  },
  {
   "cell_type": "code",
   "execution_count": 12,
   "metadata": {},
   "outputs": [
    {
     "name": "stdout",
     "output_type": "stream",
     "text": [
      "tensor([[44, 39, 33, 60, 63, 79, 27,  3, 97, 83],\n",
      "        [ 1, 66, 56, 99, 78, 76, 56, 68, 94, 33],\n",
      "        [26, 19, 91, 54, 24, 41, 69, 69, 49, 80],\n",
      "        [81, 12, 63, 60, 95, 85, 22, 99, 11, 88],\n",
      "        [78, 43, 96, 89, 71, 57, 83, 95, 82, 71],\n",
      "        [40, 69, 73, 41, 11, 80,  3,  6, 76, 27],\n",
      "        [99, 26, 63, 74, 75,  0, 18, 32, 68, 12],\n",
      "        [77, 45, 10, 80, 48, 21, 19, 16, 81, 90],\n",
      "        [82, 19, 44, 33, 69, 63,  9, 33, 19, 78],\n",
      "        [35, 83, 22, 58, 35, 16, 46, 35, 77, 12]])\n"
     ]
    }
   ],
   "source": [
    "# In PyTorch...\n",
    "\n",
    "import torch\n",
    "\n",
    "torch.random.manual_seed(0)\n",
    "\n",
    "a = torch.randint(0, 100, (10, 10))\n",
    "\n",
    "print(a)"
   ]
  },
  {
   "cell_type": "markdown",
   "metadata": {},
   "source": [
    "## JSON\n",
    "\n",
    "- JSON is a file format that allows us to store hierarchical data.\n",
    "- JSON stands for **J**ava**s**cript **O**bject **N**otation; Javascript uses objects that are formatted the same way as JSON files, but they are not separate files like JSON.\n",
    "- The hierarchical way in which JSON stores data is very similar to the way Python stores dictionaries.\n",
    "  - The only difference is that Python's `None` becomes Javascripts's `null` and Python's `True`/`False` become `true`/`false`, respectively."
   ]
  },
  {
   "cell_type": "code",
   "execution_count": 13,
   "metadata": {},
   "outputs": [],
   "source": [
    "# Python dictionary containing hierarchical information about publication(s)\n",
    "\n",
    "obj = {\n",
    "    \"glossary\": {\n",
    "        \"title\": \"example glossary\",\n",
    "        \"GlossDiv\": {\n",
    "            \"title\": \"S\",\n",
    "            \"GlossList\": {\n",
    "                \"GlossEntry\": {\n",
    "                    \"ID\": \"SGML\",\n",
    "                    \"SortAs\": \"SGML\",\n",
    "                    \"GlossTerm\": \"Standard Generalized Markup Language\",\n",
    "                    \"Acronym\": \"SGML\",\n",
    "                    \"Abbrev\": \"ISO 8879:1986\",\n",
    "                    \"GlossDef\": {\n",
    "                        \"para\": \"A meta-markup language, used to create markup languages such as DocBook.\",\n",
    "                        \"GlossSeeAlso\": [\"GML\", \"XML\"],\n",
    "                    },\n",
    "                    \"GlossSee\": None,\n",
    "                    \"sample-bool\": True,\n",
    "                }\n",
    "            },\n",
    "        },\n",
    "    }\n",
    "}\n"
   ]
  },
  {
   "cell_type": "code",
   "execution_count": 14,
   "metadata": {},
   "outputs": [],
   "source": [
    "# Javascript object (below) containing the same hierarchical information about publication(s).\n"
   ]
  },
  {
   "cell_type": "markdown",
   "metadata": {},
   "source": [
    "```javascript\n",
    "obj = {\n",
    "    \"glossary\": {\n",
    "        \"title\": \"example glossary\",\n",
    "        \"GlossDiv\": {\n",
    "            \"title\": \"S\",\n",
    "            \"GlossList\": {\n",
    "                \"GlossEntry\": {\n",
    "                    \"ID\": \"SGML\",\n",
    "                    \"SortAs\": \"SGML\",\n",
    "                    \"GlossTerm\": \"Standard Generalized Markup Language\",\n",
    "                    \"Acronym\": \"SGML\",\n",
    "                    \"Abbrev\": \"ISO 8879:1986\",\n",
    "                    \"GlossDef\": {\n",
    "                        \"para\": \"A meta-markup language, used to create markup languages such as DocBook.\",\n",
    "                        \"GlossSeeAlso\": [\"GML\", \"XML\"]\n",
    "                    },\n",
    "                    \"GlossSee\": null, // None >> null\n",
    "                    \"sample-bool\": true // True >> true\n",
    "                }\n",
    "            }\n",
    "        }\n",
    "    }\n",
    "}\n",
    "```\n"
   ]
  },
  {
   "cell_type": "markdown",
   "metadata": {},
   "source": [
    "You can see an actual JSON file in `./sample.json`"
   ]
  }
 ],
 "metadata": {
  "kernelspec": {
   "display_name": "py311",
   "language": "python",
   "name": "python3"
  },
  "language_info": {
   "codemirror_mode": {
    "name": "ipython",
    "version": 3
   },
   "file_extension": ".py",
   "mimetype": "text/x-python",
   "name": "python",
   "nbconvert_exporter": "python",
   "pygments_lexer": "ipython3",
   "version": "3.11.0"
  },
  "orig_nbformat": 4
 },
 "nbformat": 4,
 "nbformat_minor": 2
}

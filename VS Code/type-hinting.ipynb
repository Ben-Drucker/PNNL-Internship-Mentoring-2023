{
 "cells": [
  {
   "cell_type": "code",
   "execution_count": 10,
   "metadata": {},
   "outputs": [],
   "source": [
    "my_integer: int = 42"
   ]
  },
  {
   "cell_type": "code",
   "execution_count": 11,
   "metadata": {},
   "outputs": [],
   "source": [
    "my_list: list = [1, \"A\", True]"
   ]
  },
  {
   "cell_type": "code",
   "execution_count": 12,
   "metadata": {},
   "outputs": [
    {
     "name": "stdout",
     "output_type": "stream",
     "text": [
      "3\n"
     ]
    }
   ],
   "source": [
    "my_list: list[int] = [1, 2, 3]\n",
    "my_list1: list[int] = [1, 2, \"3\"]\n",
    "my_list2: list[int|str] = [1, 2, \"3\"]\n",
    "my_nested_list: list[list[str | int | bool] | str] = [[1, \"A\", True], \"Hello World\", 2]\n",
    "\n",
    "my_variable: int | None\n",
    "my_variable = 3\n",
    "print(my_variable)"
   ]
  },
  {
   "cell_type": "code",
   "execution_count": 14,
   "metadata": {},
   "outputs": [],
   "source": [
    "import typing\n",
    "from typing import Literal\n",
    "\n",
    "#type hint functions\n",
    "def fn1(arg1: str, arg2: str):\n",
    "    return f\"{arg1} is a cool {arg2}\"\n",
    "\n",
    "def fn2(arg1: list[int]) -> int:\n",
    "    return sum(arg1)\n",
    "\n",
    "#fn3\n",
    "\n",
    "def fn4(tup: tuple[float, int, bool, None]) -> typing.NoReturn:\n",
    "    print(tup)\n",
    "    raise RuntimeError()\n"
   ]
  },
  {
   "cell_type": "code",
   "execution_count": 15,
   "metadata": {},
   "outputs": [
    {
     "name": "stdout",
     "output_type": "stream",
     "text": [
      "66 77\n",
      "66 88\n",
      "66 77\n"
     ]
    }
   ],
   "source": [
    "def testfn(arg1: int, arg2: int=77, arg3: int=88, arg4: int=99):\n",
    "    print(arg1, arg2)\n",
    "\n",
    "testfn(66)\n",
    "testfn(66,88)\n",
    "testfn(66, arg4=99)"
   ]
  },
  {
   "cell_type": "code",
   "execution_count": 19,
   "metadata": {},
   "outputs": [],
   "source": [
    "def testfn2(arg1, *args, arg2=77):\n",
    "    print(arg2, args)"
   ]
  },
  {
   "cell_type": "code",
   "execution_count": 21,
   "metadata": {},
   "outputs": [
    {
     "name": "stdout",
     "output_type": "stream",
     "text": [
      "22 (33, 44, 55, 66, 77)\n"
     ]
    }
   ],
   "source": [
    "testfn2(11, 33, 44, 55,66, 77, arg2=22)"
   ]
  },
  {
   "cell_type": "code",
   "execution_count": 23,
   "metadata": {},
   "outputs": [],
   "source": [
    "def testfn3(*args, **kwargs):\n",
    "    print(args, kwargs)"
   ]
  },
  {
   "cell_type": "code",
   "execution_count": 28,
   "metadata": {},
   "outputs": [
    {
     "name": "stdout",
     "output_type": "stream",
     "text": [
      "(1, 2, 3, 4) {'color': 'red', 'size': 'big', 'isround': True}\n"
     ]
    }
   ],
   "source": [
    "testfn3(1, 2, 3, 4, **{'color': 'red', \"size\": 'big', \"isround\": True})"
   ]
  },
  {
   "cell_type": "code",
   "execution_count": 32,
   "metadata": {},
   "outputs": [
    {
     "ename": "AssertionError",
     "evalue": "the variable is `a` was supposed to be an int, but got a str",
     "output_type": "error",
     "traceback": [
      "\u001b[1;31m---------------------------------------------------------------------------\u001b[0m",
      "\u001b[1;31mAssertionError\u001b[0m                            Traceback (most recent call last)",
      "Cell \u001b[1;32mIn[32], line 3\u001b[0m\n\u001b[0;32m      1\u001b[0m a \u001b[39m=\u001b[39m \u001b[39m'\u001b[39m\u001b[39m5\u001b[39m\u001b[39m'\u001b[39m\n\u001b[1;32m----> 3\u001b[0m \u001b[39massert\u001b[39;00m \u001b[39misinstance\u001b[39m(a, \u001b[39mint\u001b[39m), \u001b[39mf\u001b[39m\u001b[39m\"\u001b[39m\u001b[39mthe variable is `a` was supposed to be an int, but got a \u001b[39m\u001b[39m{\u001b[39;00ma\u001b[39m.\u001b[39m\u001b[39m__class__\u001b[39m\u001b[39m.\u001b[39m\u001b[39m__name__\u001b[39m\u001b[39m}\u001b[39;00m\u001b[39m\"\u001b[39m\n",
      "\u001b[1;31mAssertionError\u001b[0m: the variable is `a` was supposed to be an int, but got a str"
     ]
    }
   ],
   "source": [
    "a = '5'\n",
    "\n",
    "assert isinstance(a, int), f\"the variable is `a` was supposed to be an int, but got a {a.__class__.__name__}\""
   ]
  },
  {
   "cell_type": "code",
   "execution_count": 42,
   "metadata": {},
   "outputs": [
    {
     "name": "stdout",
     "output_type": "stream",
     "text": [
      "0.8444218515250481\n"
     ]
    }
   ],
   "source": [
    "import random \n",
    "\n",
    "random.seed(0)\n",
    "\n",
    "print(random.random())"
   ]
  },
  {
   "cell_type": "code",
   "execution_count": 43,
   "metadata": {},
   "outputs": [
    {
     "ename": "SyntaxError",
     "evalue": "invalid syntax (3752815516.py, line 5)",
     "output_type": "error",
     "traceback": [
      "\u001b[1;36m  Cell \u001b[1;32mIn[43], line 5\u001b[1;36m\u001b[0m\n\u001b[1;33m    a = np.random.randInt(0, 100, size = )\u001b[0m\n\u001b[1;37m                                         ^\u001b[0m\n\u001b[1;31mSyntaxError\u001b[0m\u001b[1;31m:\u001b[0m invalid syntax\n"
     ]
    }
   ],
   "source": [
    "import numpy as np \n",
    "\n",
    "np.random.seed(0)\n",
    "\n",
    "#behind\n",
    "#a = np.random.randInt(0, 100, size = (10, 10))\n",
    "print(a)"
   ]
  },
  {
   "cell_type": "code",
   "execution_count": 46,
   "metadata": {},
   "outputs": [
    {
     "name": "stdout",
     "output_type": "stream",
     "text": [
      "tensor([[44, 39, 33, 60, 63, 79, 27,  3, 97, 83],\n",
      "        [ 1, 66, 56, 99, 78, 76, 56, 68, 94, 33],\n",
      "        [26, 19, 91, 54, 24, 41, 69, 69, 49, 80],\n",
      "        [81, 12, 63, 60, 95, 85, 22, 99, 11, 88],\n",
      "        [78, 43, 96, 89, 71, 57, 83, 95, 82, 71],\n",
      "        [40, 69, 73, 41, 11, 80,  3,  6, 76, 27],\n",
      "        [99, 26, 63, 74, 75,  0, 18, 32, 68, 12],\n",
      "        [77, 45, 10, 80, 48, 21, 19, 16, 81, 90],\n",
      "        [82, 19, 44, 33, 69, 63,  9, 33, 19, 78],\n",
      "        [35, 83, 22, 58, 35, 16, 46, 35, 77, 12]])\n"
     ]
    }
   ],
   "source": [
    "import torch \n",
    "\n",
    "torch.random.manual_seed(0)\n",
    "\n",
    "a = torch.randint(0, 100, (10, 10))\n",
    "\n",
    "print(a)"
   ]
  },
  {
   "cell_type": "code",
   "execution_count": 49,
   "metadata": {
    "vscode": {
     "languageId": "javascript"
    }
   },
   "outputs": [
    {
     "ename": "NameError",
     "evalue": "name 'true' is not defined",
     "output_type": "error",
     "traceback": [
      "\u001b[1;31m---------------------------------------------------------------------------\u001b[0m",
      "\u001b[1;31mNameError\u001b[0m                                 Traceback (most recent call last)",
      "Cell \u001b[1;32mIn[49], line 4\u001b[0m\n\u001b[0;32m      1\u001b[0m obj \u001b[39m=\u001b[39m {\n\u001b[0;32m      2\u001b[0m     \u001b[39m'\u001b[39m\u001b[39mheight\u001b[39m\u001b[39m'\u001b[39m: \u001b[39m55\u001b[39m,\n\u001b[0;32m      3\u001b[0m     \u001b[39m'\u001b[39m\u001b[39meye-color\u001b[39m\u001b[39m'\u001b[39m: \u001b[39m'\u001b[39m\u001b[39mblue\u001b[39m\u001b[39m'\u001b[39m,\n\u001b[1;32m----> 4\u001b[0m     \u001b[39m'\u001b[39m\u001b[39misAdult\u001b[39m\u001b[39m'\u001b[39m: true\n\u001b[0;32m      5\u001b[0m }\n",
      "\u001b[1;31mNameError\u001b[0m: name 'true' is not defined"
     ]
    }
   ],
   "source": [
    "obj = {\n",
    "    'height': 55,\n",
    "    'eye-color': 'blue',\n",
    "    'isAdult': true\n",
    "}"
   ]
  },
  {
   "cell_type": "code",
   "execution_count": null,
   "metadata": {},
   "outputs": [],
   "source": [
    "import json \n",
    "\n",
    "#with open(\"*./sample.json\") as f:\n"
   ]
  }
 ],
 "metadata": {
  "kernelspec": {
   "display_name": "Python 3",
   "language": "python",
   "name": "python3"
  },
  "language_info": {
   "codemirror_mode": {
    "name": "ipython",
    "version": 3
   },
   "file_extension": ".py",
   "mimetype": "text/x-python",
   "name": "python",
   "nbconvert_exporter": "python",
   "pygments_lexer": "ipython3",
   "version": "3.11.4"
  },
  "orig_nbformat": 4
 },
 "nbformat": 4,
 "nbformat_minor": 2
}

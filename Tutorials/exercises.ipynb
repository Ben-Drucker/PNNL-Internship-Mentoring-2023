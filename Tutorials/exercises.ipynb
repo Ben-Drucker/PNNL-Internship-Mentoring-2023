{
 "cells": [
  {
   "attachments": {},
   "cell_type": "markdown",
   "metadata": {},
   "source": [
    "### 1\n",
    "Write and subsequently use a lambda expression that takes some number of strings and uses an f-string to put them in a message."
   ]
  },
  {
   "cell_type": "code",
   "execution_count": 11,
   "metadata": {},
   "outputs": [],
   "source": [
    "# Your code here"
   ]
  },
  {
   "attachments": {},
   "cell_type": "markdown",
   "metadata": {},
   "source": [
    "### 2\n",
    "\n",
    "Use each of the following at least once in the following task:\n",
    "\n",
    "   1. a list comprehension\n",
    "   2. a `for` loop looping over multiple variables. The `for` loop should also use `enumerate`.\n",
    "   3. a `set`\n",
    "   4. an `f`-string\n",
    "   5. a lambda expression\n",
    "\n",
    "The task:\n",
    " - **Read in `birthdays.csv`. Write a script (with the given requirements) that outputs the text below**\n",
    " - Hint: You can split a string on a separator using `\"string\".split(\"sep\")`\n",
    " - Hint: to sort a list of lists by multiple fields (elements), you can use `list.sort(key = fn)` where `fn` is a function that accepts a list and returns a tuple. The returned tuple should be a sequence of fields in the order the fields should be sorted.\n",
    "\n",
    "\n",
    "```plain\n",
    "Birthdays sorted by year, then month, then date (repeats filtered out):\n",
    "-----------------------------------------------------------------------\n",
    "\n",
    "1. Athena's birthday is on 21/4/2000\n",
    "2. Flo's birthday is on 31/7/1984\n",
    "3. Diane's birthday is on 12/3/1966\n",
    "4. Ben's birthday is on 23/4/2007\n",
    "5. Edgar's birthday is on 6/10/1997\n",
    "6. Christian's birthday is on 12/9/1962\n",
    "```\n"
   ]
  },
  {
   "cell_type": "code",
   "execution_count": 12,
   "metadata": {},
   "outputs": [],
   "source": [
    "# Your code here"
   ]
  },
  {
   "attachments": {},
   "cell_type": "markdown",
   "metadata": {},
   "source": [
    "### 3"
   ]
  },
  {
   "attachments": {},
   "cell_type": "markdown",
   "metadata": {},
   "source": [
    "Complete the same task to exercise 2, but use the `pandas` library instead. Additionally, incorporate the following changes:\n",
    "\n",
    "1. Subset the list to birthdays with the following conditions: they occur before Jan 1, 2000 and they are in the second half of the year.\n",
    "2. Rather than manually printing a table output, make a new table so the output looks like the table below.\n",
    "3. Use each of the following items at least once:\n",
    "   1. a list/set/dict comprehension\n",
    "   2. an `f`-string\n",
    "   3. a lambda expression\n",
    "\n",
    "Finally, make sure you adhere to the following (new) requirements and suggestions:\n",
    "1. In general, use `pandas` to read in the data and process the data table to completion.\n",
    "2. In particular, make sure to use `pandas` [`pandas.to_datetime`](https://pandas.pydata.org/docs/reference/api/pandas.to_datetime.html) to obtain [`pandas.Timestamp`](https://pandas.pydata.org/docs/reference/api/pandas.Timestamp.html) objects. This will make sorting easy. Do not manually implement a sorting function. Also do not implement a custom scheme to convert numerical dates to strings. Use [`strftime`](https://pandas.pydata.org/docs/reference/api/pandas.Series.dt.strftime.html) instead.\n",
    "3. Use `your_table.equals(answer_table)` to ensure you have exactly recreated the correct answer."
   ]
  },
  {
   "cell_type": "code",
   "execution_count": 18,
   "metadata": {},
   "outputs": [
    {
     "data": {
      "text/html": [
       "<div>\n",
       "<style scoped>\n",
       "    .dataframe tbody tr th:only-of-type {\n",
       "        vertical-align: middle;\n",
       "    }\n",
       "\n",
       "    .dataframe tbody tr th {\n",
       "        vertical-align: top;\n",
       "    }\n",
       "\n",
       "    .dataframe thead th {\n",
       "        text-align: right;\n",
       "    }\n",
       "</style>\n",
       "<table border=\"1\" class=\"dataframe\">\n",
       "  <thead>\n",
       "    <tr style=\"text-align: right;\">\n",
       "      <th></th>\n",
       "      <th>Name</th>\n",
       "      <th>Birthday</th>\n",
       "    </tr>\n",
       "  </thead>\n",
       "  <tbody>\n",
       "    <tr>\n",
       "      <th>3</th>\n",
       "      <td>Christian</td>\n",
       "      <td>Wednesday, September 12, 1962</td>\n",
       "    </tr>\n",
       "    <tr>\n",
       "      <th>6</th>\n",
       "      <td>Flo</td>\n",
       "      <td>Tuesday, July 31, 1984</td>\n",
       "    </tr>\n",
       "    <tr>\n",
       "      <th>5</th>\n",
       "      <td>Edgar</td>\n",
       "      <td>Monday, October 06, 1997</td>\n",
       "    </tr>\n",
       "  </tbody>\n",
       "</table>\n",
       "</div>"
      ],
      "text/plain": [
       "        Name                       Birthday\n",
       "3  Christian  Wednesday, September 12, 1962\n",
       "6        Flo         Tuesday, July 31, 1984\n",
       "5      Edgar       Monday, October 06, 1997"
      ]
     },
     "execution_count": 18,
     "metadata": {},
     "output_type": "execute_result"
    }
   ],
   "source": [
    "# This is the exact table your table should equal.\n",
    "import pandas, copy\n",
    "answer_table = pandas.read_pickle(\"./ex_3_ans.pkl\") # Read in saved binary data file\n",
    "answer_table"
   ]
  },
  {
   "cell_type": "code",
   "execution_count": 19,
   "metadata": {},
   "outputs": [
    {
     "name": "stdout",
     "output_type": "stream",
     "text": [
      "Is `answer_table_2` the same object in memory as `answer_table`? False\n",
      "Does `answer_table_2` have the same elements as `answer_table`? True\n"
     ]
    }
   ],
   "source": [
    "# Your output, like a deep copy of `answer_table`, should not be the same memory address as `answer_table`. \n",
    "# However, all of its rows, columns, and elements should be the same.\n",
    "\n",
    "answer_table_2 = copy.deepcopy(answer_table)\n",
    "print(\"Is `answer_table_2` the same object in memory as `answer_table`?\", answer_table is answer_table_2)\n",
    "print(\"Does `answer_table_2` have the same content as `answer_table`?\", answer_table.equals(answer_table_2))"
   ]
  },
  {
   "cell_type": "code",
   "execution_count": 14,
   "metadata": {},
   "outputs": [],
   "source": [
    "# Your code here"
   ]
  }
 ],
 "metadata": {
  "kernelspec": {
   "display_name": "py311",
   "language": "python",
   "name": "python3"
  },
  "language_info": {
   "codemirror_mode": {
    "name": "ipython",
    "version": 3
   },
   "file_extension": ".py",
   "mimetype": "text/x-python",
   "name": "python",
   "nbconvert_exporter": "python",
   "pygments_lexer": "ipython3",
   "version": "3.11.0"
  },
  "orig_nbformat": 4
 },
 "nbformat": 4,
 "nbformat_minor": 2
}

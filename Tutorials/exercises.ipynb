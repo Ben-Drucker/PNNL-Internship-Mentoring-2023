{
 "cells": [
  {
   "attachments": {},
   "cell_type": "markdown",
   "metadata": {},
   "source": [
    "### 1\n",
    "Write and subsequently use a lambda expression that takes some number of strings and uses an f-string to put them in a message."
   ]
  },
  {
   "cell_type": "code",
   "execution_count": null,
   "metadata": {},
   "outputs": [],
   "source": [
    "# Your code here"
   ]
  },
  {
   "attachments": {},
   "cell_type": "markdown",
   "metadata": {},
   "source": [
    "### 2\n",
    "\n",
    "Use each of the following at least once in the following task:\n",
    "\n",
    "   1. a list comprehension\n",
    "   2. a `for` loop looping over multiple variables. The `for` loop should also use `enumerate`.\n",
    "   3. a `set`\n",
    "   4. an `f`-string\n",
    "   5. a lambda expression\n",
    "\n",
    "The task:\n",
    " - **Read in `birthdays.csv`. Write a script (with the given requirements) that outputs the text below**\n",
    " - Hint: You can split a string on a separator using `\"string\".split(\"sep\")`\n",
    " - Hint: to sort a list of lists by multiple fields (elements), you can use `list.sort(key = fn)` where `fn` is a function that accepts a list and returns a tuple. The returned tuple should be a sequence of fields in the order the fields should be sorted.\n",
    "\n",
    "\n",
    "```plain\n",
    "Birthdays sorted by year, then month, then date (repeats filtered out):\n",
    "-----------------------------------------------------------------------\n",
    "\n",
    "1. Athena's birthday is on 21/4/2000\n",
    "2. Flo's birthday is on 31/7/1984\n",
    "3. Diane's birthday is on 12/3/1966\n",
    "4. Ben's birthday is on 23/4/2007\n",
    "5. Edgar's birthday is on 6/10/1997\n",
    "6. Christian's birthday is on 12/9/1962\n",
    "```\n"
   ]
  },
  {
   "cell_type": "code",
   "execution_count": null,
   "metadata": {},
   "outputs": [],
   "source": [
    "# Your code here"
   ]
  }
 ],
 "metadata": {
  "language_info": {
   "name": "python"
  },
  "orig_nbformat": 4
 },
 "nbformat": 4,
 "nbformat_minor": 2
}

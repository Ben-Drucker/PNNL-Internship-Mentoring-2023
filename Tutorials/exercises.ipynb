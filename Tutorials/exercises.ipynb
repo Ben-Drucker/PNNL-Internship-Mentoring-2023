{
 "cells": [
  {
   "attachments": {},
   "cell_type": "markdown",
   "metadata": {},
   "source": [
    "### 1\n",
    "Write and subsequently use a lambda expression that takes some number of strings and uses an f-string to put them in a message."
   ]
  },
  {
   "cell_type": "code",
   "execution_count": 32,
   "metadata": {},
   "outputs": [
    {
     "name": "stdout",
     "output_type": "stream",
     "text": [
      "test project\n"
     ]
    }
   ],
   "source": [
    "# Your code here\n",
    "x=\"test\"\n",
    "(lambda x: print(f\"{x} project\")) (x)"
   ]
  },
  {
   "attachments": {},
   "cell_type": "markdown",
   "metadata": {},
   "source": [
    "### 2\n",
    "\n",
    "Use each of the following at least once in the following task:\n",
    "\n",
    "   1. a list comprehension\n",
    "   2. a `for` loop looping over multiple variables. The `for` loop should also use `enumerate`.\n",
    "   3. a `set`\n",
    "   4. an `f`-string\n",
    "   5. a lambda expression\n",
    "\n",
    "The task:\n",
    " - **Read in `birthdays.csv`. Write a script (with the given requirements) that outputs the text below**\n",
    " - Hint: You can split a string on a separator using `\"string\".split(\"sep\")`\n",
    " - Hint: to sort a list of lists by multiple fields (elements), you can use `list.sort(key = fn)` where `fn` is a function that accepts a list and returns a tuple. The returned tuple should be a sequence of fields in the order the fields should be sorted.\n",
    "\n",
    "\n",
    "```plain\n",
    "Birthdays sorted by year, then month, then date (repeats filtered out):\n",
    "-----------------------------------------------------------------------\n",
    "\n",
    "1. Athena's birthday is on 21/4/2000\n",
    "2. Flo's birthday is on 31/7/1984\n",
    "3. Diane's birthday is on 12/3/1966\n",
    "4. Ben's birthday is on 23/4/2007\n",
    "5. Edgar's birthday is on 6/10/1997\n",
    "6. Christian's birthday is on 12/9/1962\n",
    "```\n"
   ]
  },
  {
   "cell_type": "code",
   "execution_count": 33,
   "metadata": {},
   "outputs": [
    {
     "name": "stdout",
     "output_type": "stream",
     "text": [
      "1. Christian's birthday is on 12/9/1962\n",
      "2. Diane's birthday is on 12/3/1966\n",
      "3. Flo's birthday is on 31/7/1984\n",
      "4. Edgar's birthday is on 6/10/1997\n",
      "5. Athena's birthday is on 21/4/2000\n",
      "6. Ben's birthday is on 23/4/2007\n"
     ]
    }
   ],
   "source": [
    "# Your code here\n",
    "import csv\n",
    "with open(\"birthdays.csv\") as f:\n",
    "    data = list(csv.reader(f,delimiter=','))\n",
    "# using sets of tuples \n",
    "data = data[1:]\n",
    "data_tuples = [tuple(d) for d in data]\n",
    "result1 = set(data_tuples)\n",
    "result2 = list(result1)\n",
    "result2.sort(key = lambda tup: (tup[3], tup[2], tup[1]))\n",
    "for i in range (len(result2)):\n",
    "    print(f\"{i+1}. {result2[i][0]}'s birthday is on {result2[i][1]}/{result2[i][2]}/{result2[i][3]}\")\n",
    "\n",
    "# \n",
    "# result = [element for i, element in enumerate(data) if element not in data[:i]]\n",
    "# for i in range (1, len(result)):\n",
    "#     print(f\"{result[i][0]} 's birthday is on {result[i][1]}/{result[i][2]}/{result[i][3]}\")"
   ]
  },
  {
   "attachments": {},
   "cell_type": "markdown",
   "metadata": {},
   "source": [
    "### 3"
   ]
  },
  {
   "attachments": {},
   "cell_type": "markdown",
   "metadata": {},
   "source": [
    "Complete the same task to exercise 2, but use the `pandas` library instead. Additionally, incorporate the following changes:\n",
    "\n",
    "1. Subset the list to birthdays with the following conditions: they occur before Jan 1, 2000 and they are in the second half of the year.\n",
    "2. Rather than manually printing a table output, make a new table so the output looks like the table below.\n",
    "3. Use each of the following items at least once:\n",
    "   1. a list/set/dict comprehension\n",
    "   2. an `f`-string\n",
    "   3. a lambda expression\n",
    "\n",
    "Finally, make sure you adhere to the following (new) requirements and suggestions:\n",
    "1. In general, use `pandas` to read in the data and process the data table to completion.\n",
    "2. In particular, make sure to use `pandas` [`pandas.to_datetime`](https://pandas.pydata.org/docs/reference/api/pandas.to_datetime.html) to obtain [`pandas.Timestamp`](https://pandas.pydata.org/docs/reference/api/pandas.Timestamp.html) objects. This will make sorting easy. Do not manually implement a sorting function. Also do not implement a custom scheme to convert numerical dates to strings. Use [`strftime`](https://pandas.pydata.org/docs/reference/api/pandas.Series.dt.strftime.html) instead.\n",
    "3. Use `your_table.equals(answer_table)` to ensure you have exactly recreated the correct answer."
   ]
  },
  {
   "cell_type": "code",
   "execution_count": 34,
   "metadata": {},
   "outputs": [
    {
     "data": {
      "text/html": [
       "<div>\n",
       "<style scoped>\n",
       "    .dataframe tbody tr th:only-of-type {\n",
       "        vertical-align: middle;\n",
       "    }\n",
       "\n",
       "    .dataframe tbody tr th {\n",
       "        vertical-align: top;\n",
       "    }\n",
       "\n",
       "    .dataframe thead th {\n",
       "        text-align: right;\n",
       "    }\n",
       "</style>\n",
       "<table border=\"1\" class=\"dataframe\">\n",
       "  <thead>\n",
       "    <tr style=\"text-align: right;\">\n",
       "      <th></th>\n",
       "      <th>Name</th>\n",
       "      <th>Birthday</th>\n",
       "    </tr>\n",
       "  </thead>\n",
       "  <tbody>\n",
       "    <tr>\n",
       "      <th>3</th>\n",
       "      <td>Christian</td>\n",
       "      <td>Wednesday, September 12, 1962</td>\n",
       "    </tr>\n",
       "    <tr>\n",
       "      <th>6</th>\n",
       "      <td>Flo</td>\n",
       "      <td>Tuesday, July 31, 1984</td>\n",
       "    </tr>\n",
       "    <tr>\n",
       "      <th>5</th>\n",
       "      <td>Edgar</td>\n",
       "      <td>Monday, October 06, 1997</td>\n",
       "    </tr>\n",
       "  </tbody>\n",
       "</table>\n",
       "</div>"
      ],
      "text/plain": [
       "        Name                       Birthday\n",
       "3  Christian  Wednesday, September 12, 1962\n",
       "6        Flo         Tuesday, July 31, 1984\n",
       "5      Edgar       Monday, October 06, 1997"
      ]
     },
     "execution_count": 34,
     "metadata": {},
     "output_type": "execute_result"
    }
   ],
   "source": [
    "# This is the exact table your table should equal.\n",
    "import pandas, copy\n",
    "answer_table = pandas.read_pickle(\"./ex_3_ans.pkl\") # Read in saved binary data file\n",
    "answer_table"
   ]
  },
  {
   "cell_type": "code",
   "execution_count": 35,
   "metadata": {},
   "outputs": [
    {
     "name": "stdout",
     "output_type": "stream",
     "text": [
      "Is `answer_table_2` the same object in memory as `answer_table`? False\n",
      "Does `answer_table_2` have the same content as `answer_table`? True\n"
     ]
    }
   ],
   "source": [
    "# Your output, like a deep copy of `answer_table`, should not be the same memory address as `answer_table`. \n",
    "# However, all of its rows, columns, and elements should be the same.\n",
    "\n",
    "answer_table_2 = copy.deepcopy(answer_table)\n",
    "print(\"Is `answer_table_2` the same object in memory as `answer_table`?\", answer_table is answer_table_2)\n",
    "print(\"Does `answer_table_2` have the same content as `answer_table`?\", answer_table.equals(answer_table_2))"
   ]
  },
  {
   "cell_type": "code",
   "execution_count": 37,
   "metadata": {},
   "outputs": [
    {
     "data": {
      "text/html": [
       "<div>\n",
       "<style scoped>\n",
       "    .dataframe tbody tr th:only-of-type {\n",
       "        vertical-align: middle;\n",
       "    }\n",
       "\n",
       "    .dataframe tbody tr th {\n",
       "        vertical-align: top;\n",
       "    }\n",
       "\n",
       "    .dataframe thead th {\n",
       "        text-align: right;\n",
       "    }\n",
       "</style>\n",
       "<table border=\"1\" class=\"dataframe\">\n",
       "  <thead>\n",
       "    <tr style=\"text-align: right;\">\n",
       "      <th></th>\n",
       "      <th>Name</th>\n",
       "      <th>BirthDate</th>\n",
       "      <th>BirthMonth</th>\n",
       "      <th>BirthYear</th>\n",
       "      <th>Birthday</th>\n",
       "    </tr>\n",
       "  </thead>\n",
       "  <tbody>\n",
       "    <tr>\n",
       "      <th>0</th>\n",
       "      <td>Athena</td>\n",
       "      <td>21</td>\n",
       "      <td>4</td>\n",
       "      <td>2000</td>\n",
       "      <td>2000-04-21</td>\n",
       "    </tr>\n",
       "    <tr>\n",
       "      <th>1</th>\n",
       "      <td>Ben</td>\n",
       "      <td>23</td>\n",
       "      <td>4</td>\n",
       "      <td>2007</td>\n",
       "      <td>2007-04-23</td>\n",
       "    </tr>\n",
       "    <tr>\n",
       "      <th>3</th>\n",
       "      <td>Christian</td>\n",
       "      <td>12</td>\n",
       "      <td>9</td>\n",
       "      <td>1962</td>\n",
       "      <td>1962-09-12</td>\n",
       "    </tr>\n",
       "    <tr>\n",
       "      <th>4</th>\n",
       "      <td>Diane</td>\n",
       "      <td>12</td>\n",
       "      <td>3</td>\n",
       "      <td>1966</td>\n",
       "      <td>1966-03-12</td>\n",
       "    </tr>\n",
       "    <tr>\n",
       "      <th>7</th>\n",
       "      <td>Edgar</td>\n",
       "      <td>6</td>\n",
       "      <td>10</td>\n",
       "      <td>1997</td>\n",
       "      <td>1997-10-06</td>\n",
       "    </tr>\n",
       "    <tr>\n",
       "      <th>8</th>\n",
       "      <td>Flo</td>\n",
       "      <td>31</td>\n",
       "      <td>7</td>\n",
       "      <td>1984</td>\n",
       "      <td>1984-07-31</td>\n",
       "    </tr>\n",
       "  </tbody>\n",
       "</table>\n",
       "</div>"
      ],
      "text/plain": [
       "        Name  BirthDate  BirthMonth  BirthYear   Birthday\n",
       "0     Athena         21           4       2000 2000-04-21\n",
       "1        Ben         23           4       2007 2007-04-23\n",
       "3  Christian         12           9       1962 1962-09-12\n",
       "4      Diane         12           3       1966 1966-03-12\n",
       "7      Edgar          6          10       1997 1997-10-06\n",
       "8        Flo         31           7       1984 1984-07-31"
      ]
     },
     "execution_count": 37,
     "metadata": {},
     "output_type": "execute_result"
    }
   ],
   "source": [
    "# Your code here\n",
    "import pandas as pd, copy\n",
    "birthdays = pandas.read_csv(\"birthdays.csv\")\n",
    "m, d, y = birthdays['BirthMonth'].values, birthdays['BirthDate'].values, birthdays['BirthYear'].values\n",
    "birthdays[\"Birthday\"] = pd.to_datetime([f\"{mm}/{dd}/{yy}\" for mm, dd, yy in zip(m, d, y)], format=\"%m/%d/%Y\")\n",
    "birthdays.drop_duplicates()"
   ]
  }
 ],
 "metadata": {
  "kernelspec": {
   "display_name": "py311",
   "language": "python",
   "name": "python3"
  },
  "language_info": {
   "codemirror_mode": {
    "name": "ipython",
    "version": 3
   },
   "file_extension": ".py",
   "mimetype": "text/x-python",
   "name": "python",
   "nbconvert_exporter": "python",
   "pygments_lexer": "ipython3",
   "version": "3.11.4"
  },
  "orig_nbformat": 4
 },
 "nbformat": 4,
 "nbformat_minor": 2
}

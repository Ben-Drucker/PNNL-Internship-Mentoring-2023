{
 "cells": [
  {
   "attachments": {},
   "cell_type": "markdown",
   "metadata": {},
   "source": [
    "### 1 (F-Strings)\n",
    "Write and subsequently use a lambda expression that takes some number of strings and uses an f-string to put them in a message."
   ]
  },
  {
   "cell_type": "code",
   "execution_count": 11,
   "metadata": {},
   "outputs": [],
   "source": [
    "# Your code here"
   ]
  },
  {
   "attachments": {},
   "cell_type": "markdown",
   "metadata": {},
   "source": [
    "### 2 (Sets, comprehensions, and `for` loops)\n",
    "\n",
    "Use each of the following at least once in the following task:\n",
    "\n",
    "   1. a list comprehension\n",
    "   2. a `for` loop looping over multiple variables. The `for` loop should also use `enumerate`.\n",
    "   3. a `set`\n",
    "   4. an `f`-string\n",
    "   5. a lambda expression\n",
    "\n",
    "The task:\n",
    " - **Read in `birthdays.csv`. Write a script (with the given requirements) that outputs the text below**\n",
    " - Hint: You can split a string on a separator using `\"string\".split(\"sep\")`\n",
    " - Hint: to sort a list of lists by multiple fields (elements), you can use `list.sort(key = fn)` where `fn` is a function that accepts a list and returns a tuple. The returned tuple should be a sequence of fields in the order the fields should be sorted.\n",
    "\n",
    "\n",
    "```plain\n",
    "Birthdays sorted by year, then month, then date (repeats filtered out):\n",
    "-----------------------------------------------------------------------\n",
    "\n",
    "1. Athena's birthday is on 21/4/2000\n",
    "2. Flo's birthday is on 31/7/1984\n",
    "3. Diane's birthday is on 12/3/1966\n",
    "4. Ben's birthday is on 23/4/2007\n",
    "5. Edgar's birthday is on 6/10/1997\n",
    "6. Christian's birthday is on 12/9/1962\n",
    "```\n"
   ]
  },
  {
   "cell_type": "code",
   "execution_count": 12,
   "metadata": {},
   "outputs": [],
   "source": [
    "# Your code here"
   ]
  },
  {
   "attachments": {},
   "cell_type": "markdown",
   "metadata": {},
   "source": [
    "### 3 (`pandas`)"
   ]
  },
  {
   "attachments": {},
   "cell_type": "markdown",
   "metadata": {},
   "source": [
    "Complete the same task to exercise 2, but use the `pandas` library instead. Additionally, incorporate the following changes:\n",
    "\n",
    "1. Subset the list to birthdays with the following conditions: they occur before Jan 1, 2000 and they are in the second half of the year.\n",
    "2. Rather than manually printing a table output, make a new table so the output looks like the table below.\n",
    "3. Use each of the following items at least once:\n",
    "   1. a list/set/dict comprehension\n",
    "   2. an `f`-string\n",
    "   3. a lambda expression\n",
    "\n",
    "Finally, make sure you adhere to the following (new) requirements and suggestions:\n",
    "1. In general, use `pandas` to read in the data and process the data table to completion.\n",
    "2. In particular, make sure to use `pandas` [`pandas.to_datetime`](https://pandas.pydata.org/docs/reference/api/pandas.to_datetime.html) to obtain [`pandas.Timestamp`](https://pandas.pydata.org/docs/reference/api/pandas.Timestamp.html) objects. This will make sorting easy. Do not manually implement a sorting function. Also do not implement a custom scheme to convert numerical dates to strings. Use [`strftime`](https://pandas.pydata.org/docs/reference/api/pandas.Series.dt.strftime.html) instead.\n",
    "3. Use `your_table.equals(answer_table)` to ensure you have exactly recreated the correct answer."
   ]
  },
  {
   "cell_type": "code",
   "execution_count": 2,
   "metadata": {},
   "outputs": [
    {
     "data": {
      "text/html": [
       "<div>\n",
       "<style scoped>\n",
       "    .dataframe tbody tr th:only-of-type {\n",
       "        vertical-align: middle;\n",
       "    }\n",
       "\n",
       "    .dataframe tbody tr th {\n",
       "        vertical-align: top;\n",
       "    }\n",
       "\n",
       "    .dataframe thead th {\n",
       "        text-align: right;\n",
       "    }\n",
       "</style>\n",
       "<table border=\"1\" class=\"dataframe\">\n",
       "  <thead>\n",
       "    <tr style=\"text-align: right;\">\n",
       "      <th></th>\n",
       "      <th>Name</th>\n",
       "      <th>Birthday</th>\n",
       "    </tr>\n",
       "  </thead>\n",
       "  <tbody>\n",
       "    <tr>\n",
       "      <th>3</th>\n",
       "      <td>Christian</td>\n",
       "      <td>Wednesday, September 12, 1962</td>\n",
       "    </tr>\n",
       "    <tr>\n",
       "      <th>6</th>\n",
       "      <td>Flo</td>\n",
       "      <td>Tuesday, July 31, 1984</td>\n",
       "    </tr>\n",
       "    <tr>\n",
       "      <th>5</th>\n",
       "      <td>Edgar</td>\n",
       "      <td>Monday, October 06, 1997</td>\n",
       "    </tr>\n",
       "  </tbody>\n",
       "</table>\n",
       "</div>"
      ],
      "text/plain": [
       "        Name                       Birthday\n",
       "3  Christian  Wednesday, September 12, 1962\n",
       "6        Flo         Tuesday, July 31, 1984\n",
       "5      Edgar       Monday, October 06, 1997"
      ]
     },
     "execution_count": 2,
     "metadata": {},
     "output_type": "execute_result"
    }
   ],
   "source": [
    "# This is the exact table your table should equal.\n",
    "import pandas, copy\n",
    "answer_table = pandas.read_pickle(\"./ex_3_ans.pkl\") # Read in saved binary data file\n",
    "answer_table"
   ]
  },
  {
   "cell_type": "code",
   "execution_count": 19,
   "metadata": {},
   "outputs": [
    {
     "name": "stdout",
     "output_type": "stream",
     "text": [
      "Is `answer_table_2` the same object in memory as `answer_table`? False\n",
      "Does `answer_table_2` have the same elements as `answer_table`? True\n"
     ]
    }
   ],
   "source": [
    "# Your output, like a deep copy of `answer_table`, should not be the same memory address as `answer_table`. \n",
    "# However, all of its rows, columns, and elements should be the same.\n",
    "\n",
    "answer_table_2 = copy.deepcopy(answer_table)\n",
    "print(\"Is `answer_table_2` the same object in memory as `answer_table`?\", answer_table is answer_table_2)\n",
    "print(\"Does `answer_table_2` have the same content as `answer_table`?\", answer_table.equals(answer_table_2))"
   ]
  },
  {
   "cell_type": "code",
   "execution_count": 14,
   "metadata": {},
   "outputs": [],
   "source": [
    "# Your code here\n",
    "pandas.isnull"
   ]
  },
  {
   "cell_type": "code",
   "execution_count": null,
   "metadata": {},
   "outputs": [],
   "source": [
    "import pandas as pd\n",
    "\n",
    "### File I/O\n",
    "data_frame = pd.read_csv(\"the/path/to.csv\") # Read a CSV into a pd.DataFrame\n",
    "data_frame.to_csv(\"the/output/path/to.csv\") # Save a pd.DateFrame to a CSV\n",
    "data_frame.to_excel(\"the/output/path/to.xlsx\") # Save the pd.DataFrame as an Excel spreadsheet\n",
    "\n",
    "### Sorting\n",
    "data_frame.sort_values(by = \"Column to sort by\") # Sort a pd.DataFrame by a column\n",
    "data_frame.sort_values(by = [\"Primary col\", \"Secondary col\"]) # Sort a pd.DataFrame by a column and then a \n",
    "\t\t\t\t\t\t\t\t\t\t\t\t\t\t\t\t\t\t\t\t\t\t\t\t\t\t\t\t\t\t\t# second column if there are duplicates in the first\n",
    "  \n",
    "### Querying (filtering)\n",
    "## Verbose syntax: -----------------------------------------------\n",
    "\n",
    "# STEP A: Get True/False Series for each item in data_frame's column, based on some condition\n",
    "\n",
    "# Ex. A-1: Get pd.Series of bools based on each value in \"Column\" being equal to \"Specific Value\"\n",
    "# Ex. A-2:  〃     〃     〃   〃   〃    〃  〃    〃   〃     〃     〃   less than \"Specific Value\"\n",
    "# Ex. A-3:  〃     〃     〃   〃   〃    〃  〃    〃   〃     〃     〃   null (missing value)\n",
    "\n",
    "boolean_series = data_frame[\"Column\"] == \"Specific Value\" # Ex. A-1\n",
    "bool_ser1 = data_frame[\"Column\"] < \"Specific Value\" # Ex. A-2\n",
    "bool_ser2 = pd.isnull(data_frame[\"Column\"]) # Ex. A-3\n",
    "\n",
    "# `boolean_series` will look something like [True, False, False, True, ..., True] once `.tolist()`ed.\n",
    "\n",
    "# STEP B: Normally, when using the syntax data_frame['Column'], you will get a **column**.\n",
    "# However, if you pass a boolean_series with the same number of elements as `data_frame` has rows, \n",
    "# instead of a \"Column\", pandas will select **rows** in data_frame that are `True` in the boolean_series.\n",
    "\n",
    "# Ex. B-1: Just get rows of data_frame where boolean_series is `True`.\n",
    "# Ex. B-2: 〃    〃   〃  〃     〃        〃  bool_ser1 is `True` and `bool_ser2` is `True`\n",
    "# Ex. B-3: 〃    〃   〃  〃     〃        〃  bool_ser1 is `True` or `bool_ser2` is `True`\n",
    "# Ex. B-3: 〃    〃   〃  〃     〃        〃   boolean_series is `False`.\n",
    "# ONE CANNOT USE `and`/`or`/`not` since we are doing ELEMENTWISE comparison!\n",
    "\n",
    "filtered = data_frame[boolean_series] # Ex. B-1\n",
    "filtered = data_frame[bool_ser1 & bool_ser2] # Ex. B-2\n",
    "filtered = data_frame[bool_ser1 │ bool_ser2] # Ex. B-3\n",
    "filtered = data_frame[~boolean_series] # Ex. B-4\n",
    "\n",
    "\n",
    "## Compact syntax: -----------------------------------------------\n",
    "\n",
    "# You can combine STEP A and STEP B in one line:\n",
    "\n",
    "# Notice the use of parentheses to separate two conditions\n",
    "filtered = data_frame[(data_frame['Column'] == \"Specific Value\") & (~pd.isnull(data_frame['Column2']))]\n",
    "\n",
    "# If data_frame looks like: \t\tColumn      │    Column1   │    Column2\n",
    "# \t\t\t\t\t\t\t--------------------------------------------------\n",
    "#\t\t\t\t\t\t\t0 │ Specific Value  │    Value1    │ Specific Value\n",
    "#\t\t\t\t\t\t\t1 │ Specific Value  │    Value1    │\n",
    "#\t\t\t\t\t\t\t2 │ Diff Value      │    Value1    │ Specific Value\n",
    "#\t\t\t\t\t\t\t3 │ Specific Value  │              │ Diff Value\n",
    "\n",
    "# filtered will look like:\n",
    "#\t\t\t\t\t\t\t \t\tColumn    │    Column1    │    Column2\n",
    "# \t\t\t\t\t\t\t--------------------------------------------------\n",
    "#\t\t\t\t\t\t\t0 │ Specific Value│    Value1     │ Specific Value\n",
    "#\t\t\t\t\t\t\t3 │ Specific Value│               │ Diff Value\n"
   ]
  },
  {
   "cell_type": "markdown",
   "metadata": {},
   "source": [
    "### 4 (Type hinting, default args, and seeds)\n",
    "\n",
    "Write a function `fn_a` that takes in an integer `num_rands` in [0, 100] and generates a random list of `float`s, the length of the integer. For example, `fn_a(5)` would return `[0.844, 0.758, 0.421, 0.259, 0.511]`, and `fn_a(0)` would return [].\n",
    "\n",
    "#### Requirements:\n",
    "\n",
    "- Set a seed of `0` to produce the exact values from above.\n",
    "- Round each number to three digits past the decimal\n",
    "- Type hint every function parameter, return value, and declared variable inside the function. Furthermore, make sure your type hints are as specific as possible. For example — even though you don't need to use a `set` in this program — `set[tuple[int, str, bool]]` is better than `set[tuple]`, which is better than `set`.\n",
    "- Check (`assert`) to make sure the passed input is, indeed (1) an integer and (2) in the range [0, 100]. Print a friendly error message if it is not.\n",
    "- The default input for `fn_a` should be 10.\n",
    "- Include a second, optional argument `verbose` that prints \"My sequence is \\<the generated sequence\\>\" if `True` and prints nothing otherwise. The default should be `False`. If `verbose` is `True`, `fn_a` should return `None`.\n",
    "- Use at least one `f`-string. \n",
    "- The output should look basically identical to the printout below (some lines that would give away the solution were redacted, though.)\n",
    "\n",
    "<div style = \"text-align: center\"><img width = 65% src = \"./images/Printout.svg\"></img></div>"
   ]
  },
  {
   "cell_type": "code",
   "execution_count": null,
   "metadata": {},
   "outputs": [],
   "source": [
    "# Your code here"
   ]
  },
  {
   "cell_type": "markdown",
   "metadata": {},
   "source": [
    "## 5 (Vectorization)\n",
    "\n",
    "This exercise will consist of several, small mini-exercises. The numpy documentation pages will come in handy.\n",
    "\n",
    "### Requirements\n",
    "\n",
    "- You should use **zero** for/while loops in your solutions. Instead, use vectorized functions only. (Hint: sometimes, operators like `+` are vectorized under-the-hood for numpy arrays)\n",
    "- Start by creating a large 5,000 x 5,000 random integer (in the interval [0, 99]) numpy array called `arr`. You should use this array in all the exercises.\n",
    "- Print out the result at the end of each exercise.\n",
    "- Set a seed of 0 for reproducibility\n",
    "- It should take no longer than 2 seconds to run all the exercises in series. (This requirement will ensure you are doing things in the most efficient way). Ideally everything would run in about 0.7 seconds (what my solutions required), but there are differences in computer speed, so this allows for some wiggle room.\n",
    "- Not a strict requirement, but each task should take no more than 4 lines of code. That is to say, use a lot of built-in numpy functions :)\n",
    "- These are meant to be difficult, so please ask for help if you get stuck.\n",
    "\n",
    "### The tasks\n",
    "\n",
    "- (5.1) Add arr to itself\n",
    "\n",
    "- (5.2) Covert each element of arr to a float\n",
    "\n",
    "- (5.3) Obtain a list of tuples/coordinates/indices of the form (row idx, col idx) where each tuple represents an element of arr that is equal to 42 — the meaning of life. ONLY print out the first 100 coordinates, as printing all pairs will likely crash your computer.\n",
    "\n",
    "- (5.4) Turn arr into a long, 25,000,000 - length list, where rows are attached end-to-end. Again, only print the first 100 entries.\n",
    "\n",
    "- (5.5) Change the shape of the array from (5000, 5000) to (50, 500000)\n",
    "\n",
    "- (5.6) Take the log base 10 of each element in arr. You will likely get some warnings (can't take the log of 0). It will turn log_10(0) into negative infinities. Convert these negative infinities into numpy NaN objects. (Not a Number)"
   ]
  },
  {
   "cell_type": "markdown",
   "metadata": {},
   "source": [
    "# 6 (Protocols)\n",
    "\n",
    "- Create a `Protocol` called `MeanCalculator` and subclasses `LoopingMeanCalculator` and `VectorizedMeanCalculator`.\n",
    "  - The protocol should have a member variable `data`\n",
    "  - The protocol should have a constructor (`__init__`) that takes a Numpy array `data` and initializes `data`. Depending on the subclass (Looping/Vectorized), the `__init__` implementation should print a description/fun fact about either looping or vectorization, respectively\n",
    "  - The protocol should have a method `compute_mean` that takes only `self` as an argument. Depending on the subclass (Looping/Vectorized), this method should compute the mean of all the numbers in `self.data` in a looping vs. vectorized way, respectively. It should return a `float` (the mean).\n",
    "  - The protocol should have a method `timed_compute_mean`. Unlike the previously mentioned functions, this function should be implemented in the protocol directly, as the implementation should not change between vectorized and looping. This method should call `self.compute_mean` between `time.time()` calls to compute how long each method took. Print out a message about how long the computation took before returning a `float` (the mean)."
   ]
  },
  {
   "cell_type": "code",
   "execution_count": 39,
   "metadata": {},
   "outputs": [
    {
     "name": "stdout",
     "output_type": "stream",
     "text": [
      "[[5 0 3 3 7]\n",
      " [9 3 5 2 4]\n",
      " [7 6 8 8 1]\n",
      " [6 7 7 8 1]\n",
      " [5 9 8 9 4]]\n"
     ]
    }
   ],
   "source": [
    "### Starter code\n",
    "\n",
    "import numpy as np\n",
    "\n",
    "np.random.seed(0)\n",
    "arr = np.random.randint(0, 10, size = (5, 5))\n",
    "\n",
    "print(arr)"
   ]
  }
 ],
 "metadata": {
  "kernelspec": {
   "display_name": "py311",
   "language": "python",
   "name": "python3"
  },
  "language_info": {
   "codemirror_mode": {
    "name": "ipython",
    "version": 3
   },
   "file_extension": ".py",
   "mimetype": "text/x-python",
   "name": "python",
   "nbconvert_exporter": "python",
   "pygments_lexer": "ipython3",
   "version": "3.11.0"
  },
  "orig_nbformat": 4
 },
 "nbformat": 4,
 "nbformat_minor": 2
}
